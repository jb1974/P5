{
 "cells": [
  {
   "cell_type": "markdown",
   "id": "1bdb4912",
   "metadata": {},
   "source": [
    "# Introduction\n",
    "\n",
    "Analyse exploratoire des données importées via l'outil stackexchange explorer.\n",
    "\n",
    "##### Contexte\n",
    "\n",
    "Création d'un système de suggestion de tags pour le site stackoverflow. Celui-ci prendra la forme d’un algorithme de machine learning qui assigne automatiquement plusieurs tags pertinents à une question.\n",
    "\n",
    "##### Récupération des données\n",
    "\n",
    "Pour l'analyse exploratoire, j'ai récupéré l'ensemble des posts créés sur le site stackoverflow depuis sa création.\n",
    "Je me suis focalisé uniquement sur les posts d'utilisateurs expérimentés (Réputation >= 10000, nombre de vues >= 5000).\n",
    "Comme stackexchange explorer ne permet de collecter que maximum 50000 records à la fois, j'ai utilisé le champ Id de la table Posts pour découper mes requêtes.\n",
    "\n",
    "##### Exemple de requête:\n",
    "\n",
    "SELECT Title, Body, Tags, Score, ViewCount, OwnerUserId, Reputation, Views \n",
    "\n",
    "FROM Posts p, Users u \n",
    "\n",
    "WHERE p.OwnerUserId = u.Id \n",
    "\n",
    "AND p.Id <= 1000000 \n",
    "\n",
    "AND PostTypeId = 1\n",
    "\n",
    "AND Reputation >= 10000\n",
    "\n",
    "AND Views >= 5000\n",
    "\n",
    "AND Score IS NOT NULL\n",
    "\n",
    "AND ViewCount IS NOT NULL\n",
    "\n",
    "AND AnswerCount IS NOT NULL\n",
    "\n",
    "AND CommentCount IS NOT NULL\n",
    "\n",
    "AND FavoriteCount IS NOT NULL\n",
    "\n",
    "AND Tags IS NOT NULL"
   ]
  },
  {
   "cell_type": "code",
   "execution_count": 1,
   "id": "8ebcd503",
   "metadata": {},
   "outputs": [
    {
     "name": "stderr",
     "output_type": "stream",
     "text": [
      "C:\\Users\\james\\anaconda3\\envs\\p5\\lib\\site-packages\\gensim\\similarities\\__init__.py:15: UserWarning: The gensim.similarities.levenshtein submodule is disabled, because the optional Levenshtein package <https://pypi.org/project/python-Levenshtein/> is unavailable. Install Levenhstein (e.g. `pip install python-Levenshtein`) to suppress this warning.\n",
      "  warnings.warn(msg)\n"
     ]
    }
   ],
   "source": [
    "# misc\n",
    "import os\n",
    "import re\n",
    "import time\n",
    "import warnings\n",
    "import numpy as np\n",
    "import pandas as pd\n",
    "\n",
    "# preprocessing\n",
    "import nltk\n",
    "import spacy\n",
    "from bs4 import BeautifulSoup\n",
    "from nltk.corpus import stopwords\n",
    "from nltk.stem import WordNetLemmatizer\n",
    "\n",
    "# lda\n",
    "import gensim\n",
    "import gensim.corpora as corpora\n",
    "from gensim.models import CoherenceModel\n",
    "\n",
    "# wordcloud\n",
    "from wordcloud import WordCloud\n",
    "\n",
    "# Plotting tools\n",
    "import seaborn as sns\n",
    "import matplotlib.pyplot as plt"
   ]
  },
  {
   "cell_type": "code",
   "execution_count": 2,
   "id": "602ea7ef",
   "metadata": {},
   "outputs": [
    {
     "name": "stderr",
     "output_type": "stream",
     "text": [
      "[nltk_data] Downloading package punkt to\n",
      "[nltk_data]     C:\\Users\\james\\AppData\\Roaming\\nltk_data...\n",
      "[nltk_data]   Package punkt is already up-to-date!\n",
      "[nltk_data] Downloading package stopwords to\n",
      "[nltk_data]     C:\\Users\\james\\AppData\\Roaming\\nltk_data...\n",
      "[nltk_data]   Package stopwords is already up-to-date!\n",
      "[nltk_data] Downloading package wordnet to\n",
      "[nltk_data]     C:\\Users\\james\\AppData\\Roaming\\nltk_data...\n",
      "[nltk_data]   Package wordnet is already up-to-date!\n",
      "[nltk_data] Downloading package omw-1.4 to\n",
      "[nltk_data]     C:\\Users\\james\\AppData\\Roaming\\nltk_data...\n",
      "[nltk_data]   Package omw-1.4 is already up-to-date!\n"
     ]
    }
   ],
   "source": [
    "# Allow to display all dataframes columns\n",
    "pd.set_option(\"display.max_columns\", None)\n",
    "\n",
    "# Requested for nltk\n",
    "nltk.download('punkt')\n",
    "nltk.download('stopwords')\n",
    "nltk.download('wordnet')\n",
    "nltk.download('omw-1.4')\n",
    "\n",
    "# Inactivate warnings\n",
    "warnings.filterwarnings('ignore')"
   ]
  },
  {
   "cell_type": "markdown",
   "id": "555aec56",
   "metadata": {},
   "source": [
    "# Chargement des données"
   ]
  },
  {
   "cell_type": "code",
   "execution_count": 3,
   "id": "06437994",
   "metadata": {},
   "outputs": [
    {
     "name": "stdout",
     "output_type": "stream",
     "text": [
      "0 - QueryResults_1.csv\n",
      "1 - QueryResults_20.csv\n",
      "2 - QueryResults_40.csv\n",
      "3 - QueryResults_5.csv\n",
      "4 - QueryResults_70.csv\n"
     ]
    }
   ],
   "source": [
    "# New dataframe instanciation\n",
    "data = pd.DataFrame()\n",
    "\n",
    "# Process files\n",
    "for idx, file in enumerate(os.listdir('./data')):\n",
    "    print(idx, '-', file)\n",
    "    path = './data/' + file\n",
    "    df = pd.read_csv(path)\n",
    "        \n",
    "    data = pd.concat([data, df],\n",
    "                      axis=0)\n",
    "\n",
    "# Sort by Reputation\n",
    "data.sort_values('Reputation', ascending=False, inplace=True)\n",
    "\n",
    "# Reset index\n",
    "data.reset_index(inplace=True)\n",
    "data.drop('index', axis=1, inplace=True)"
   ]
  },
  {
   "cell_type": "markdown",
   "id": "7215f9da",
   "metadata": {},
   "source": [
    "# Analyse de forme"
   ]
  },
  {
   "cell_type": "markdown",
   "id": "94a901bc",
   "metadata": {},
   "source": [
    "## Variables"
   ]
  },
  {
   "cell_type": "code",
   "execution_count": 4,
   "id": "f7f75def",
   "metadata": {
    "scrolled": true
   },
   "outputs": [
    {
     "data": {
      "text/plain": [
       "Index(['Title', 'Body', 'Tags', 'Score', 'ViewCount', 'OwnerUserId',\n",
       "       'Reputation', 'Views'],\n",
       "      dtype='object')"
      ]
     },
     "execution_count": 4,
     "metadata": {},
     "output_type": "execute_result"
    }
   ],
   "source": [
    "data.columns"
   ]
  },
  {
   "cell_type": "markdown",
   "id": "f9475c4f",
   "metadata": {},
   "source": [
    "##### 4 groupes de variables:\n",
    "\n",
    "- Titre et corps des posts\n",
    "- Tags\n",
    "- Score et nombre de vues des posts\n",
    "- Id, score de réputation et nombre de vues de l'utilisateur"
   ]
  },
  {
   "cell_type": "markdown",
   "id": "062475c8",
   "metadata": {},
   "source": [
    "## Variable target"
   ]
  },
  {
   "cell_type": "code",
   "execution_count": 5,
   "id": "13ccaf47",
   "metadata": {},
   "outputs": [
    {
     "data": {
      "text/plain": [
       "'<dnx><dnu>'"
      ]
     },
     "execution_count": 5,
     "metadata": {},
     "output_type": "execute_result"
    }
   ],
   "source": [
    "data['Tags'][0]"
   ]
  },
  {
   "cell_type": "markdown",
   "id": "8b4c2288",
   "metadata": {},
   "source": [
    "La variable Tags est une chaîne de caractères."
   ]
  },
  {
   "cell_type": "markdown",
   "id": "e2bcb1b2",
   "metadata": {},
   "source": [
    "## Lignes et colonnes"
   ]
  },
  {
   "cell_type": "code",
   "execution_count": 6,
   "id": "dc6a047a",
   "metadata": {
    "scrolled": true
   },
   "outputs": [
    {
     "name": "stdout",
     "output_type": "stream",
     "text": [
      "Premières valeurs du dataset\n"
     ]
    },
    {
     "data": {
      "text/html": [
       "<div>\n",
       "<style scoped>\n",
       "    .dataframe tbody tr th:only-of-type {\n",
       "        vertical-align: middle;\n",
       "    }\n",
       "\n",
       "    .dataframe tbody tr th {\n",
       "        vertical-align: top;\n",
       "    }\n",
       "\n",
       "    .dataframe thead th {\n",
       "        text-align: right;\n",
       "    }\n",
       "</style>\n",
       "<table border=\"1\" class=\"dataframe\">\n",
       "  <thead>\n",
       "    <tr style=\"text-align: right;\">\n",
       "      <th></th>\n",
       "      <th>Title</th>\n",
       "      <th>Body</th>\n",
       "      <th>Tags</th>\n",
       "      <th>Score</th>\n",
       "      <th>ViewCount</th>\n",
       "      <th>OwnerUserId</th>\n",
       "      <th>Reputation</th>\n",
       "      <th>Views</th>\n",
       "    </tr>\n",
       "  </thead>\n",
       "  <tbody>\n",
       "    <tr>\n",
       "      <th>0</th>\n",
       "      <td>What is the expected behaviour of parent-relat...</td>\n",
       "      <td>&lt;p&gt;(Now raised as &lt;a href=\"https://github.com/...</td>\n",
       "      <td>&lt;dnx&gt;&lt;dnu&gt;</td>\n",
       "      <td>29</td>\n",
       "      <td>1392</td>\n",
       "      <td>22656</td>\n",
       "      <td>1313262</td>\n",
       "      <td>2122677</td>\n",
       "    </tr>\n",
       "    <tr>\n",
       "      <th>1</th>\n",
       "      <td>How can I diagnose missing dependencies (or ot...</td>\n",
       "      <td>&lt;p&gt;I'm trying to run a modified version of the...</td>\n",
       "      <td>&lt;c#&gt;&lt;asp.net-core&gt;&lt;dnx&gt;</td>\n",
       "      <td>135</td>\n",
       "      <td>50344</td>\n",
       "      <td>22656</td>\n",
       "      <td>1313262</td>\n",
       "      <td>2122677</td>\n",
       "    </tr>\n",
       "    <tr>\n",
       "      <th>2</th>\n",
       "      <td>How can I find out what's causing differences ...</td>\n",
       "      <td>&lt;p&gt;In Noda Time, we generate our documentation...</td>\n",
       "      <td>&lt;documentation&gt;&lt;sandcastle&gt;&lt;finalize&gt;&lt;shfb&gt;</td>\n",
       "      <td>48</td>\n",
       "      <td>2095</td>\n",
       "      <td>22656</td>\n",
       "      <td>1313262</td>\n",
       "      <td>2122677</td>\n",
       "    </tr>\n",
       "    <tr>\n",
       "      <th>3</th>\n",
       "      <td>Project management to go with GitHub</td>\n",
       "      <td>&lt;p&gt;(EDIT: This question is now outdated for my...</td>\n",
       "      <td>&lt;git&gt;&lt;open-source&gt;&lt;project-management&gt;&lt;github&gt;...</td>\n",
       "      <td>96</td>\n",
       "      <td>22605</td>\n",
       "      <td>22656</td>\n",
       "      <td>1313262</td>\n",
       "      <td>2122677</td>\n",
       "    </tr>\n",
       "    <tr>\n",
       "      <th>4</th>\n",
       "      <td>Why does adding a dependency in my Web API (AS...</td>\n",
       "      <td>&lt;p&gt;I'm using Visual Studio 2015 CTP 6 on Windo...</td>\n",
       "      <td>&lt;c#&gt;&lt;asp.net-web-api&gt;&lt;asp.net-core&gt;&lt;visual-stu...</td>\n",
       "      <td>31</td>\n",
       "      <td>2218</td>\n",
       "      <td>22656</td>\n",
       "      <td>1313262</td>\n",
       "      <td>2122677</td>\n",
       "    </tr>\n",
       "  </tbody>\n",
       "</table>\n",
       "</div>"
      ],
      "text/plain": [
       "                                               Title  \\\n",
       "0  What is the expected behaviour of parent-relat...   \n",
       "1  How can I diagnose missing dependencies (or ot...   \n",
       "2  How can I find out what's causing differences ...   \n",
       "3               Project management to go with GitHub   \n",
       "4  Why does adding a dependency in my Web API (AS...   \n",
       "\n",
       "                                                Body  \\\n",
       "0  <p>(Now raised as <a href=\"https://github.com/...   \n",
       "1  <p>I'm trying to run a modified version of the...   \n",
       "2  <p>In Noda Time, we generate our documentation...   \n",
       "3  <p>(EDIT: This question is now outdated for my...   \n",
       "4  <p>I'm using Visual Studio 2015 CTP 6 on Windo...   \n",
       "\n",
       "                                                Tags  Score  ViewCount  \\\n",
       "0                                         <dnx><dnu>     29       1392   \n",
       "1                            <c#><asp.net-core><dnx>    135      50344   \n",
       "2        <documentation><sandcastle><finalize><shfb>     48       2095   \n",
       "3  <git><open-source><project-management><github>...     96      22605   \n",
       "4  <c#><asp.net-web-api><asp.net-core><visual-stu...     31       2218   \n",
       "\n",
       "   OwnerUserId  Reputation    Views  \n",
       "0        22656     1313262  2122677  \n",
       "1        22656     1313262  2122677  \n",
       "2        22656     1313262  2122677  \n",
       "3        22656     1313262  2122677  \n",
       "4        22656     1313262  2122677  "
      ]
     },
     "metadata": {},
     "output_type": "display_data"
    },
    {
     "name": "stdout",
     "output_type": "stream",
     "text": [
      "\n",
      "--------------------------------------------------\n",
      "\n",
      "Nombre d'observations: 107376, nombre de variables: 8\n"
     ]
    }
   ],
   "source": [
    "print(\"Premières valeurs du dataset\")\n",
    "display(data.head())\n",
    "print('\\n' + '-' *50 +'\\n')\n",
    "print(f\"Nombre d'observations: {data.shape[0]}, nombre de variables: {data.shape[1]}\")"
   ]
  },
  {
   "cell_type": "markdown",
   "id": "43ef904f",
   "metadata": {},
   "source": [
    "## Types de variables"
   ]
  },
  {
   "cell_type": "code",
   "execution_count": 7,
   "id": "8d1ad989",
   "metadata": {
    "scrolled": true
   },
   "outputs": [
    {
     "data": {
      "text/plain": [
       "int64     5\n",
       "object    3\n",
       "dtype: int64"
      ]
     },
     "execution_count": 7,
     "metadata": {},
     "output_type": "execute_result"
    }
   ],
   "source": [
    "data.dtypes.value_counts()"
   ]
  },
  {
   "cell_type": "markdown",
   "id": "a6d6956b",
   "metadata": {},
   "source": [
    "Variables qualitatives : 4 (réintégration OwnerUserId), quantitatives : 4"
   ]
  },
  {
   "cell_type": "markdown",
   "id": "84e56241",
   "metadata": {},
   "source": [
    "## Valeurs manquantes"
   ]
  },
  {
   "cell_type": "code",
   "execution_count": 8,
   "id": "a137664e",
   "metadata": {
    "scrolled": true
   },
   "outputs": [
    {
     "data": {
      "text/plain": [
       "Title          False\n",
       "Body           False\n",
       "Tags           False\n",
       "Score          False\n",
       "ViewCount      False\n",
       "OwnerUserId    False\n",
       "Reputation     False\n",
       "Views          False\n",
       "dtype: bool"
      ]
     },
     "execution_count": 8,
     "metadata": {},
     "output_type": "execute_result"
    }
   ],
   "source": [
    "data.isnull().any()"
   ]
  },
  {
   "cell_type": "markdown",
   "id": "e81395a1",
   "metadata": {},
   "source": [
    "Pas de valeurs manquantes"
   ]
  },
  {
   "cell_type": "markdown",
   "id": "5cbba56b",
   "metadata": {},
   "source": [
    "# Analyse de fond"
   ]
  },
  {
   "cell_type": "markdown",
   "id": "5744b160",
   "metadata": {},
   "source": [
    "## Visualisation de la target"
   ]
  },
  {
   "cell_type": "code",
   "execution_count": 9,
   "id": "226ea786",
   "metadata": {},
   "outputs": [],
   "source": [
    "# Split tags in a list\n",
    "def split_tags(df):\n",
    "    record = df['Tags'].replace('<', '').split('>')\n",
    "    record = record[:-1]\n",
    "    return record\n",
    "\n",
    "\n",
    "data['Tags_list'] = data.apply(split_tags, axis=1)"
   ]
  },
  {
   "cell_type": "code",
   "execution_count": 10,
   "id": "fc7a17b3",
   "metadata": {},
   "outputs": [],
   "source": [
    "# Count the tags in the tags list\n",
    "def tags_number(df):\n",
    "    return len(df['Tags_list'])\n",
    "\n",
    "\n",
    "data['tags_number'] = data.apply(tags_number, axis=1)"
   ]
  },
  {
   "cell_type": "code",
   "execution_count": 11,
   "id": "ed57239e",
   "metadata": {
    "scrolled": true
   },
   "outputs": [
    {
     "data": {
      "image/png": "[encoded data removed]",
      "text/plain": [
       "<Figure size 360x360 with 1 Axes>"
      ]
     },
     "metadata": {
      "needs_background": "light"
     },
     "output_type": "display_data"
    }
   ],
   "source": [
    "fig = plt.figure(figsize=(5, 5))\n",
    "plt.bar(data['tags_number'].unique(), data['tags_number'].value_counts())\n",
    "plt.title('Nombre de tags par post')\n",
    "plt.xlabel('Nombre de tags')\n",
    "plt.ylabel('Occurences')\n",
    "plt.tight_layout()\n",
    "plt.gcf().savefig('init_nomber_tags_post', dpi=100)\n",
    "plt.show()"
   ]
  },
  {
   "cell_type": "code",
   "execution_count": 12,
   "id": "d4a5e65b",
   "metadata": {},
   "outputs": [
    {
     "data": {
      "image/png": "[encoded data removed]",
      "text/plain": [
       "<Figure size 432x288 with 1 Axes>"
      ]
     },
     "metadata": {
      "needs_background": "light"
     },
     "output_type": "display_data"
    }
   ],
   "source": [
    "plt.boxplot(data['tags_number'], vert=False, showmeans=True, showfliers=False)\n",
    "plt.tight_layout()\n",
    "plt.gcf().savefig('boxplot_tags_number', dpi=100)\n",
    "plt.show()"
   ]
  },
  {
   "cell_type": "markdown",
   "id": "26c0a421",
   "metadata": {},
   "source": [
    "Le nombre de tags par post a une distribution empirique de 1 à 5 avec une médiane à 3 tags."
   ]
  },
  {
   "cell_type": "markdown",
   "id": "cb063164",
   "metadata": {},
   "source": [
    "## Titre et corps des posts"
   ]
  },
  {
   "cell_type": "code",
   "execution_count": 13,
   "id": "8380382a",
   "metadata": {},
   "outputs": [],
   "source": [
    "def getFreq(df, column, number):\n",
    "    # List the most frequent words in column\n",
    "    wordsFrequences = {}\n",
    "    final_words = {}\n",
    "\n",
    "    for index, row in df.iterrows():\n",
    "        try:\n",
    "            title = row[column].split(' ')\n",
    "        except:\n",
    "            title = row[column]\n",
    "            \n",
    "        for word in title:\n",
    "            if word in wordsFrequences.keys():\n",
    "                wordsFrequences[word] += 1\n",
    "            else:\n",
    "                wordsFrequences[word] = 1\n",
    "\n",
    "    print('Variable:', column)\n",
    "    print('Nombre de mots uniques:', len(wordsFrequences))\n",
    "\n",
    "    # Sort by number of occurence\n",
    "    sorted_keys = sorted(wordsFrequences, key=wordsFrequences.get, reverse=True)  \n",
    "\n",
    "    # Filter to get the top words frequency defined by parameter number\n",
    "    for w in sorted_keys:\n",
    "        final_words[w] = wordsFrequences[w]\n",
    "        if len(final_words) == number:\n",
    "            break\n",
    "\n",
    "    # Display graph\n",
    "    fig = plt.figure(figsize=(12, 5))\n",
    "    plt.bar(final_words.keys(), final_words.values())\n",
    "    plt.title('Les ' + str(number) + ' mots les plus fréquents dans la colonne ' + column)\n",
    "    plt.xlabel('Mots')\n",
    "    plt.ylabel('Occurences')\n",
    "    plt.xticks(rotation=90)\n",
    "    plt.tight_layout()\n",
    "    plt.gcf().savefig('most_frequent_words_' + column, dpi=100)\n",
    "    plt.show()\n",
    "    \n",
    "    # Sort by number of occurence\n",
    "    sorted_keys = sorted(wordsFrequences, key=wordsFrequences.get, reverse=False) \n",
    "    \n",
    "    # Filter to get the top words frequency defined by parameter number\n",
    "    final_words.clear()\n",
    "    \n",
    "    for w in sorted_keys:\n",
    "        if wordsFrequences[w] == 1:\n",
    "            final_words[w] = wordsFrequences[w]\n",
    "\n",
    "    print('Nombre de mots rencontrés une seule fois:', len(final_words))\n",
    "    print('')\n",
    "    # Filter to get the top words frequency defined by parameter number\n",
    "    final_words.clear()\n",
    "    \n",
    "    for w in sorted_keys:\n",
    "        final_words[w] = wordsFrequences[w]\n",
    "        if len(final_words) == number:\n",
    "            break\n",
    "\n",
    "    print('Les ' + str(number) + ' premiers mots rencontrés une seule fois dans la colonne ' + column)\n",
    "    print(final_words.keys())\n",
    "    \n",
    "    return final_words"
   ]
  },
  {
   "cell_type": "code",
   "execution_count": 14,
   "id": "3564e9db",
   "metadata": {
    "scrolled": false
   },
   "outputs": [
    {
     "name": "stdout",
     "output_type": "stream",
     "text": [
      "Variable: Title\n",
      "Nombre de mots uniques: 89708\n"
     ]
    },
    {
     "data": {
      "image/png": "[encoded data removed]",
      "text/plain": [
       "<Figure size 864x360 with 1 Axes>"
      ]
     },
     "metadata": {
      "needs_background": "light"
     },
     "output_type": "display_data"
    },
    {
     "name": "stdout",
     "output_type": "stream",
     "text": [
      "Nombre de mots rencontrés une seule fois: 60215\n",
      "\n",
      "Les 50 premiers mots rencontrés une seule fois dans la colonne Title\n",
      "dict_keys(['parent-relative', 'global.json?', 'dnx?', 'v5)', 'non-mutating', 'frameworkAssemblies', 'DbParameterCollection', 'SyntaxNode.ReplaceNode', 'SyntaxTree', 'school\"', 'DNX/DNU?', 'cmdlets?', 'culture-sensitive', '\"starts-with\"', 'Document)', 'TextBox.TextChanged', 'CTP:', '\"state\"', 'EndAwait', 'DynamicMetaObject.BindInvokeMember?', 'PIA', '(non-ASP.NET', 'Task<T>.Convert<TResult>', '\"sometimes', 'portable\"', 'controversial', 'opinion?', \"SHFB's\", \"IntelliSenseComponent's\", '_Worksheet', 'Worksheet?', 'ccrewrite.exe', 'invariant?', 'misunderstood', 'metapackage?', '*latest*', 'difftool:', \"diff'ed\", 'wc', '*locally*?', 'detection:', 'AuthnProviderAlias', 'Apache2.4.x?', '1.1.2', '1.1.1?', 'more:', 'limits\":', '\"delayed', 'local\"', 'java.net.URLConnection'])\n"
     ]
    }
   ],
   "source": [
    "freq1title = getFreq(data, 'Title', 50)"
   ]
  },
  {
   "cell_type": "markdown",
   "id": "51626604",
   "metadata": {},
   "source": [
    "Stopwords, ponctuation et majuscules à nettoyer"
   ]
  },
  {
   "cell_type": "code",
   "execution_count": 15,
   "id": "42abb0e4",
   "metadata": {},
   "outputs": [
    {
     "name": "stdout",
     "output_type": "stream",
     "text": [
      "Variable: Body\n",
      "Nombre de mots uniques: 2019523\n"
     ]
    },
    {
     "data": {
      "image/png": "[encoded data removed]",
      "text/plain": [
       "<Figure size 864x360 with 1 Axes>"
      ]
     },
     "metadata": {
      "needs_background": "light"
     },
     "output_type": "display_data"
    },
    {
     "name": "stdout",
     "output_type": "stream",
     "text": [
      "Nombre de mots rencontrés une seule fois: 1593366\n",
      "\n",
      "Les 50 premiers mots rencontrés une seule fois dans la colonne Body\n",
      "dict_keys(['<p>(Now', 'href=\"https://github.com/aspnet/dnx/issues/3206\"', 'rel=\"noreferrer\">DNX', '3206</a>...)</p>\\n\\n<p>DNX', '1.0.0-rc1,', 'x64.</p>\\n\\n<p>Imagine', 'solutions:</p>\\n\\n<ul>\\n<li>Application1</li>\\n<li>Application2</li>\\n<li>Common</li>\\n</ul>\\n\\n<p>Each', 'issue.</p>\\n\\n<p>Various', 'Application2', 'Common.', 'external),', '<code>global.json</code>', '\"projects\":', '\"../Common/src\"', '\"sdk\":', '\"1.0.0-rc1-final\"', 'directory</em>...', \"'Common'\", '0.0.0-*\".)', 'Application1</code>', \"restore</code>.</p>\\n\\n<p>I've\", '\"./Common/src\",', '\"Common/src\",', '\"../repo-name/Common/src\"),', 'packages.</p>\\n\\n<p>So,', '<code>\"../Common/src\"</code>', '<code>global.json</code>?', 'resonable', 'DNX?</p>\\n', 'href=\"https://github.com/aspnet/Home/tree/master/samples/HelloWeb\"', 'rel=\"noreferrer\">HelloWeb', ':)</p>\\n\\n<p>Environment:</p>\\n\\n<ul>\\n<li>Linux', '(Ubuntu,', 'much)</li>\\n<li>Mono', '3.12.1</li>\\n<li>DNX', '1.0.0-beta4-11257', '11249', 'too)</li>\\n</ul>\\n\\n<p>\"Web', '<code>Startup.cs</code>:</p>\\n\\n<pre><code>using', 'Microsoft.AspNet.Builder;\\npublic', 'app.UseWelcomePage();\\n', '}\\n}\\n</code></pre>\\n\\n<p>Project', '\"Kestrel\":', '\"Microsoft.AspNet.Diagnostics\":', '\"Microsoft.AspNet.Hosting\":', '\"Microsoft.AspNet.Server.WebListener\":', '\"Microsoft.Framework.Runtime\":', '\"Microsoft.Framework.Runtime.Common\":', '\"Microsoft.Framework.Runtime.Loader\":', '\"Microsoft.Framework.Runtime.Interfaces\":'])\n"
     ]
    }
   ],
   "source": [
    "freq1body = getFreq(data, 'Body', 50)"
   ]
  },
  {
   "cell_type": "markdown",
   "id": "08c0da58",
   "metadata": {},
   "source": [
    "- Présence de balises html\n",
    "- Présence de code et scripts"
   ]
  },
  {
   "cell_type": "markdown",
   "id": "71aad9fe",
   "metadata": {},
   "source": [
    "## Score et nombre de vues des posts"
   ]
  },
  {
   "cell_type": "code",
   "execution_count": 16,
   "id": "96b6a53e",
   "metadata": {},
   "outputs": [
    {
     "data": {
      "text/plain": [
       "count    107376.000000\n",
       "mean         22.885626\n",
       "std         169.874820\n",
       "min        -146.000000\n",
       "25%           2.000000\n",
       "50%           5.000000\n",
       "75%          13.000000\n",
       "max       26203.000000\n",
       "Name: Score, dtype: float64"
      ]
     },
     "execution_count": 16,
     "metadata": {},
     "output_type": "execute_result"
    }
   ],
   "source": [
    "data['Score'].describe()"
   ]
  },
  {
   "cell_type": "code",
   "execution_count": 17,
   "id": "59033b07",
   "metadata": {},
   "outputs": [
    {
     "data": {
      "image/png": "[encoded data removed]",
      "text/plain": [
       "<Figure size 432x288 with 1 Axes>"
      ]
     },
     "metadata": {
      "needs_background": "light"
     },
     "output_type": "display_data"
    }
   ],
   "source": [
    "plt.boxplot(data['Score'], vert=False, showmeans=True, showfliers=False)\n",
    "plt.tight_layout()\n",
    "plt.gcf().savefig('boxplot_score', dpi=100)\n",
    "plt.show()"
   ]
  },
  {
   "cell_type": "code",
   "execution_count": 18,
   "id": "a7a051f0",
   "metadata": {},
   "outputs": [
    {
     "data": {
      "text/plain": [
       "count    1.073760e+05\n",
       "mean     1.834312e+04\n",
       "std      1.009792e+05\n",
       "min      1.100000e+01\n",
       "25%      7.220000e+02\n",
       "50%      2.522000e+03\n",
       "75%      9.100000e+03\n",
       "max      9.655466e+06\n",
       "Name: ViewCount, dtype: float64"
      ]
     },
     "execution_count": 18,
     "metadata": {},
     "output_type": "execute_result"
    }
   ],
   "source": [
    "data['ViewCount'].describe()"
   ]
  },
  {
   "cell_type": "code",
   "execution_count": 19,
   "id": "4b9110e3",
   "metadata": {},
   "outputs": [
    {
     "data": {
      "image/png": "[encoded data removed]",
      "text/plain": [
       "<Figure size 432x288 with 1 Axes>"
      ]
     },
     "metadata": {
      "needs_background": "light"
     },
     "output_type": "display_data"
    }
   ],
   "source": [
    "plt.boxplot(data['ViewCount'], vert=False, showmeans=True, showfliers=False)\n",
    "plt.tight_layout()\n",
    "plt.gcf().savefig('boxplot_viewCount', dpi=100)\n",
    "plt.show()"
   ]
  },
  {
   "cell_type": "markdown",
   "id": "76a04ecb",
   "metadata": {},
   "source": [
    "## Id, score de réputation et nombre de vues de l'utilisateur"
   ]
  },
  {
   "cell_type": "code",
   "execution_count": 20,
   "id": "24b7e286",
   "metadata": {},
   "outputs": [
    {
     "data": {
      "image/png": "[encoded data removed]",
      "text/plain": [
       "<Figure size 432x288 with 1 Axes>"
      ]
     },
     "metadata": {
      "needs_background": "light"
     },
     "output_type": "display_data"
    }
   ],
   "source": [
    "data['OwnerUserId'].value_counts().hist(bins=50)\n",
    "plt.title('Nombre de posts par user')\n",
    "plt.xlabel('Users')\n",
    "plt.ylabel('Occurences')\n",
    "plt.tight_layout()\n",
    "plt.gcf().savefig('Nombre_posts_user', dpi=100)\n",
    "plt.show()"
   ]
  },
  {
   "cell_type": "code",
   "execution_count": 21,
   "id": "e6a9cf9b",
   "metadata": {},
   "outputs": [
    {
     "data": {
      "text/plain": [
       "count    1.073760e+05\n",
       "mean     1.180850e+05\n",
       "std      1.133272e+05\n",
       "min      1.022100e+04\n",
       "25%      4.855300e+04\n",
       "50%      8.299900e+04\n",
       "75%      1.456060e+05\n",
       "max      1.313262e+06\n",
       "Name: Reputation, dtype: float64"
      ]
     },
     "execution_count": 21,
     "metadata": {},
     "output_type": "execute_result"
    }
   ],
   "source": [
    "data['Reputation'].describe()"
   ]
  },
  {
   "cell_type": "code",
   "execution_count": 22,
   "id": "beee6d28",
   "metadata": {},
   "outputs": [
    {
     "data": {
      "image/png": "[encoded data removed]",
      "text/plain": [
       "<Figure size 432x288 with 1 Axes>"
      ]
     },
     "metadata": {
      "needs_background": "light"
     },
     "output_type": "display_data"
    }
   ],
   "source": [
    "plt.boxplot(data['Reputation'], vert=False, showmeans=True, showfliers=False)\n",
    "plt.tight_layout()\n",
    "plt.gcf().savefig('boxplot_Reputation', dpi=100)\n",
    "plt.show()"
   ]
  },
  {
   "cell_type": "code",
   "execution_count": 23,
   "id": "1c87354a",
   "metadata": {},
   "outputs": [
    {
     "data": {
      "text/plain": [
       "count    1.073760e+05\n",
       "mean     1.531338e+04\n",
       "std      5.002240e+04\n",
       "min      5.002000e+03\n",
       "25%      6.121000e+03\n",
       "50%      8.566000e+03\n",
       "75%      1.373200e+04\n",
       "max      2.122677e+06\n",
       "Name: Views, dtype: float64"
      ]
     },
     "execution_count": 23,
     "metadata": {},
     "output_type": "execute_result"
    }
   ],
   "source": [
    "data['Views'].describe()"
   ]
  },
  {
   "cell_type": "code",
   "execution_count": 24,
   "id": "b12c5e54",
   "metadata": {},
   "outputs": [
    {
     "data": {
      "image/png": "[encoded data removed]",
      "text/plain": [
       "<Figure size 432x288 with 1 Axes>"
      ]
     },
     "metadata": {
      "needs_background": "light"
     },
     "output_type": "display_data"
    }
   ],
   "source": [
    "plt.boxplot(data['Views'], vert=False, showmeans=True, showfliers=False)\n",
    "plt.tight_layout()\n",
    "plt.gcf().savefig('boxplot_Views', dpi=100)\n",
    "plt.show()"
   ]
  },
  {
   "cell_type": "markdown",
   "id": "db435305",
   "metadata": {},
   "source": [
    "# Filtrage des données\n",
    "\n",
    "Je filtre tout d'abord les valeurs atypiques en me focalisant sur les posts dont les variables Score, ViewCount, Reputation et Views sont comprises dans leur écart inter-quartile."
   ]
  },
  {
   "cell_type": "code",
   "execution_count": 25,
   "id": "f55f6f2c",
   "metadata": {},
   "outputs": [],
   "source": [
    "# Calculate interquantiles\n",
    "\n",
    "# Reputation\n",
    "diffReputation = data['Reputation'].quantile(.5) - data['Reputation'].quantile(.25)\n",
    "limMinReputation = data['Reputation'].quantile(.25) - (1.5 * diffReputation)\n",
    "limMaxReputation = data['Reputation'].quantile(.75) + (1.5 * diffReputation)\n",
    "\n",
    "# Views\n",
    "diffViews = data['Views'].quantile(.5) - data['Views'].quantile(.25)\n",
    "limMinViews = data['Views'].quantile(.25) - (1.5 * diffViews)\n",
    "limMaxViews = data['Views'].quantile(.75) + (1.5 * diffViews)\n",
    "\n",
    "# Score\n",
    "diffScore = data['Score'].quantile(.5) - data['Score'].quantile(.25)\n",
    "limMinScore = data['Score'].quantile(.25) - (1.5 * diffScore)\n",
    "limMaxScore = data['Score'].quantile(.75) + (1.5 * diffScore)\n",
    "\n",
    "# ViewCount\n",
    "diffViewCount = data['ViewCount'].quantile(.5) - data['ViewCount'].quantile(.25)\n",
    "limMinViewCount = data['ViewCount'].quantile(.25) - (1.5 * diffViewCount)\n",
    "limMaxViewCount = data['ViewCount'].quantile(.75) + (1.5 * diffViewCount)"
   ]
  },
  {
   "cell_type": "code",
   "execution_count": 26,
   "id": "e5c03b87",
   "metadata": {},
   "outputs": [
    {
     "name": "stdout",
     "output_type": "stream",
     "text": [
      "Nombre d'observations: 61325, nombre de variables: 10\n",
      "Proportion d'observations sélectionnées: 57.112%\n"
     ]
    }
   ],
   "source": [
    "filtered_data = data[(data['Reputation'] >= limMinReputation) &\n",
    "                     (data['Reputation'] <= limMaxReputation) &\n",
    "                     (data['Views'] >= limMinViews) &\n",
    "                     (data['Views'] <= limMaxViews) &\n",
    "                     (data['Score'] >= limMinScore) &\n",
    "                     (data['Score'] <= limMaxScore) &\n",
    "                     (data['ViewCount'] >= limMinViewCount) &\n",
    "                     (data['ViewCount'] <= limMaxViewCount)\n",
    "                    ]\n",
    "filtered_data.sort_values('Reputation', ascending=False, inplace=True)\n",
    "print(\n",
    "    f\"Nombre d'observations: {filtered_data.shape[0]}, nombre de variables: {filtered_data.shape[1]}\")\n",
    "print(\n",
    "    f\"Proportion d'observations sélectionnées: {round(filtered_data.shape[0] / data.shape[0]*100,3)}%\")"
   ]
  },
  {
   "cell_type": "markdown",
   "id": "e453d38a",
   "metadata": {},
   "source": [
    "Puis je filtre pour ne conserver que les posts ayant comme tags des tags parmi les 50 plus fréquents."
   ]
  },
  {
   "cell_type": "code",
   "execution_count": 27,
   "id": "f7423328",
   "metadata": {},
   "outputs": [
    {
     "name": "stdout",
     "output_type": "stream",
     "text": [
      "Nombre de tags uniques: 15895\n"
     ]
    }
   ],
   "source": [
    "# List the most frequent tags\n",
    "tagsFrequences = {}\n",
    "final = {}\n",
    "\n",
    "for index, row in filtered_data.iterrows():\n",
    "    title = row['Tags_list']\n",
    "\n",
    "    for word in title:\n",
    "        if word in tagsFrequences.keys():\n",
    "            tagsFrequences[word] += 1\n",
    "        else:\n",
    "            tagsFrequences[word] = 1\n",
    "\n",
    "print('Nombre de tags uniques:', len(tagsFrequences))\n",
    "\n",
    "# Sort by number of occurence\n",
    "sorted_keys = sorted(tagsFrequences, key=tagsFrequences.get, reverse=True)  \n",
    "\n",
    "# Filter to get the top 50 most frequent tags\n",
    "for w in sorted_keys:\n",
    "    final[w] = tagsFrequences[w]\n",
    "    if len(final) == 50:\n",
    "        break"
   ]
  },
  {
   "cell_type": "code",
   "execution_count": 28,
   "id": "0105d3b7",
   "metadata": {},
   "outputs": [
    {
     "name": "stdout",
     "output_type": "stream",
     "text": [
      "Nombre d'observations: 5794, nombre de variables: 10\n",
      "Proportion d'observations sélectionnées: 5.396%\n"
     ]
    }
   ],
   "source": [
    "def most_frequent_tag_filter(df):\n",
    "    boo_test = False\n",
    "\n",
    "    taglist = df['Tags_list']\n",
    "    for i in range(0, len(taglist)):\n",
    "        if taglist[i] in final.keys():\n",
    "            boo_test = True\n",
    "        else:\n",
    "            boo_test = False\n",
    "            break\n",
    "\n",
    "    return boo_test\n",
    "\n",
    "\n",
    "Filter = filtered_data.apply(most_frequent_tag_filter, axis=1)\n",
    "filtered_data = filtered_data[Filter]\n",
    "print(\n",
    "    f\"Nombre d'observations: {filtered_data.shape[0]}, nombre de variables: {filtered_data.shape[1]}\")\n",
    "print(\n",
    "    f\"Proportion d'observations sélectionnées: {round(filtered_data.shape[0] / data.shape[0]*100,3)}%\")"
   ]
  },
  {
   "cell_type": "markdown",
   "id": "4344fcb6",
   "metadata": {},
   "source": [
    "Point de sauvegarde"
   ]
  },
  {
   "cell_type": "code",
   "execution_count": 29,
   "id": "b699ff78",
   "metadata": {},
   "outputs": [],
   "source": [
    "filtered_data.to_pickle('filtered_data.pkl')"
   ]
  },
  {
   "cell_type": "markdown",
   "id": "9e0784f6",
   "metadata": {},
   "source": [
    "# Cleaning des données"
   ]
  },
  {
   "cell_type": "code",
   "execution_count": null,
   "id": "11fdb14e",
   "metadata": {},
   "outputs": [],
   "source": [
    "filtered_data = pd.read_pickle('filtered_data.pkl')  "
   ]
  },
  {
   "cell_type": "markdown",
   "id": "ac2dd765",
   "metadata": {},
   "source": [
    "## Définition des fonctions"
   ]
  },
  {
   "cell_type": "code",
   "execution_count": null,
   "id": "ca015abb",
   "metadata": {},
   "outputs": [],
   "source": [
    "# Tokenisation\n",
    "# \\w+ matches any word character (equal to [a-zA-Z0-9_])\n",
    "tokenizer = nltk.RegexpTokenizer(r'\\w+')\n",
    "\n",
    "# Stopwords definition\n",
    "all_stopwords = stopwords.words('english')\n",
    "all_stopwords.extend(freq1title.keys())\n",
    "all_stopwords.extend(freq1body.keys())\n",
    "\n",
    "# Lemmatization\n",
    "lemmatizer = WordNetLemmatizer()\n",
    "\n",
    "# Delete numbers\n",
    "r = re.compile(\".*[a-zA-Z]\")\n",
    "\n",
    "# Delete verbs with Part of speech (POS)\n",
    "pos = spacy.load(\"en_core_web_sm\")\n",
    "\n",
    "def preprocessing(text):\n",
    "    # HTML cleaning\n",
    "    text = BeautifulSoup(text, 'html.parser').get_text()\n",
    "\n",
    "    # Remove punctuation\n",
    "    text = re.sub('[,;:.!?]', '', text)\n",
    "\n",
    "    # Convert to lowercase\n",
    "    text = text.lower()\n",
    "\n",
    "    # Tokenisation\n",
    "    text = tokenizer.tokenize(text)\n",
    "\n",
    "    # Stopwords deletion\n",
    "    text = [word for word in text\n",
    "            if not word in all_stopwords]\n",
    "\n",
    "    # Lemmatization\n",
    "    result = []\n",
    "    for word in text:\n",
    "        result.append(lemmatizer.lemmatize(word))\n",
    "    text = result\n",
    "\n",
    "    # Delete numbers\n",
    "    text = list(filter(r.match, text))\n",
    "    \n",
    "    # PRON, AUX, ADV, ADJ, PART, VERB, DET, NOUN, ADP\n",
    "    # Remove AUX, VERB\n",
    "    result = []\n",
    "    doc = pos(' '.join(text))\n",
    "    for token in doc:\n",
    "        if token.pos_ != 'AUX' and token.pos_ != 'VERB':\n",
    "            result.append(token.text)\n",
    "    text = result\n",
    "\n",
    "    return text"
   ]
  },
  {
   "cell_type": "code",
   "execution_count": null,
   "id": "ca146f50",
   "metadata": {},
   "outputs": [],
   "source": [
    "def token_to_string(df):\n",
    "    return ' '.join(df['list_tokens'])\n",
    "\n",
    "# Columns deletion\n",
    "def drop(df, col_list):\n",
    "    df = df.drop(col_list, axis=1)\n",
    "    return df\n",
    "\n",
    "# -----------------------------------------------\n",
    "# Feature engineering\n",
    "\n",
    "# Number of characters per post\n",
    "def post_char_count(df):\n",
    "    return len(''.join(df['list_tokens']))\n",
    "\n",
    "# Number of tokens per post\n",
    "def post_token_count(df):\n",
    "    return len(df['list_tokens'])\n",
    "\n",
    "# Average number of characters per word\n",
    "def post_avg_wordlength(df):\n",
    "    return df['post_char_count'] / df['post_token_count']"
   ]
  },
  {
   "cell_type": "markdown",
   "id": "ad3d6c87",
   "metadata": {},
   "source": [
    "## Preprocessing"
   ]
  },
  {
   "cell_type": "markdown",
   "id": "8043cac3",
   "metadata": {},
   "source": [
    "### Merging Title et Body"
   ]
  },
  {
   "cell_type": "code",
   "execution_count": null,
   "id": "fa2b4a3a",
   "metadata": {},
   "outputs": [],
   "source": [
    "filtered_data['text'] = filtered_data['Title'] + ' ' + filtered_data['Body']"
   ]
  },
  {
   "cell_type": "markdown",
   "id": "f16462a3",
   "metadata": {},
   "source": [
    "### Preprocess text"
   ]
  },
  {
   "cell_type": "code",
   "execution_count": null,
   "id": "eeabec09",
   "metadata": {},
   "outputs": [],
   "source": [
    "filtered_data['list_tokens'] = filtered_data['text'].apply(lambda x: preprocessing(x))"
   ]
  },
  {
   "cell_type": "code",
   "execution_count": null,
   "id": "4f0977aa",
   "metadata": {},
   "outputs": [],
   "source": [
    "filtered_data['str_tokens'] = filtered_data.apply(token_to_string, axis=1)"
   ]
  },
  {
   "cell_type": "code",
   "execution_count": null,
   "id": "7c02414b",
   "metadata": {
    "scrolled": true
   },
   "outputs": [],
   "source": [
    "print(\n",
    "    f\"Nombre d'observations: {filtered_data.shape[0]}, nombre de variables: {filtered_data.shape[1]}\")"
   ]
  },
  {
   "cell_type": "markdown",
   "id": "a1fe973c",
   "metadata": {},
   "source": [
    "### Features engineering"
   ]
  },
  {
   "cell_type": "code",
   "execution_count": null,
   "id": "71def23c",
   "metadata": {},
   "outputs": [],
   "source": [
    "# Number of characters per post\n",
    "filtered_data['post_char_count'] = filtered_data.apply(post_char_count, axis=1)\n",
    "\n",
    "# Number of tokens per post\n",
    "filtered_data['post_token_count'] = filtered_data.apply(post_token_count, axis=1)\n",
    "\n",
    "# Remove post without words\n",
    "filtered_data = filtered_data[filtered_data['post_token_count'] != 0]\n",
    "\n",
    "# Average number of characters per word\n",
    "filtered_data['post_avg_wordlength'] = filtered_data.apply(post_avg_wordlength, axis=1)"
   ]
  },
  {
   "cell_type": "markdown",
   "id": "ed47b33b",
   "metadata": {},
   "source": [
    "Point de sauvegarde"
   ]
  },
  {
   "cell_type": "code",
   "execution_count": null,
   "id": "7b42079c",
   "metadata": {},
   "outputs": [],
   "source": [
    "filtered_data.to_pickle('preprocessed_data.pkl')"
   ]
  },
  {
   "cell_type": "markdown",
   "id": "cdd49edf",
   "metadata": {},
   "source": [
    "### Cleaning"
   ]
  },
  {
   "cell_type": "code",
   "execution_count": null,
   "id": "c5fe8960",
   "metadata": {},
   "outputs": [],
   "source": [
    "preprocessed_data = pd.read_pickle('preprocessed_data.pkl')  "
   ]
  },
  {
   "cell_type": "code",
   "execution_count": null,
   "id": "a75f3f06",
   "metadata": {},
   "outputs": [],
   "source": [
    "preprocessed_data.columns"
   ]
  },
  {
   "cell_type": "code",
   "execution_count": null,
   "id": "717759f5",
   "metadata": {},
   "outputs": [],
   "source": [
    "# Delete useless columns\n",
    "print('Delete useless columns...')\n",
    "collist = ['Title', 'Body', 'Tags', 'Score', 'ViewCount', 'OwnerUserId',\n",
    "           'Reputation', 'Views', 'tags_number']\n",
    "print(collist)\n",
    "preprocessed_data = drop(preprocessed_data, collist)\n",
    "preprocessed_data = preprocessed_data.reset_index()\n",
    "preprocessed_data = drop(preprocessed_data, ['index'])"
   ]
  },
  {
   "cell_type": "markdown",
   "id": "024b60b7",
   "metadata": {},
   "source": [
    "### Remove duplicates"
   ]
  },
  {
   "cell_type": "code",
   "execution_count": null,
   "id": "6c0c7891",
   "metadata": {},
   "outputs": [],
   "source": [
    "print('Number of duplicates: ', preprocessed_data['str_tokens'].duplicated().sum())\n",
    "preprocessed_data.drop_duplicates(subset='str_tokens', keep='last', inplace=True)"
   ]
  },
  {
   "cell_type": "code",
   "execution_count": null,
   "id": "ffd7d190",
   "metadata": {},
   "outputs": [],
   "source": [
    "print(\n",
    "    f\"Nombre d'observations: {preprocessed_data.shape[0]}, nombre de variables: {preprocessed_data.shape[1]}\")"
   ]
  },
  {
   "cell_type": "markdown",
   "id": "df0a1de8",
   "metadata": {},
   "source": [
    "# Analyse exploratoire"
   ]
  },
  {
   "cell_type": "markdown",
   "id": "f619f649",
   "metadata": {},
   "source": [
    "## Univariée"
   ]
  },
  {
   "cell_type": "markdown",
   "id": "8f584802",
   "metadata": {},
   "source": [
    "### Nombre de caractères par post"
   ]
  },
  {
   "cell_type": "code",
   "execution_count": null,
   "id": "242316bd",
   "metadata": {},
   "outputs": [],
   "source": [
    "preprocessed_data['post_char_count'].hist(bins=50)\n",
    "plt.xlabel('Nombre de caractères')\n",
    "plt.ylabel('Occurences')\n",
    "plt.title('Nombre de caractères par post')\n",
    "plt.tight_layout()\n",
    "plt.gcf().savefig('post_char_count', dpi=100)\n",
    "plt.show()"
   ]
  },
  {
   "cell_type": "code",
   "execution_count": null,
   "id": "70a797ba",
   "metadata": {},
   "outputs": [],
   "source": []
  }
 ],
 "metadata": {
  "kernelspec": {
   "display_name": "p5",
   "language": "python",
   "name": "p5"
  },
  "language_info": {
   "codemirror_mode": {
    "name": "ipython",
    "version": 3
   },
   "file_extension": ".py",
   "mimetype": "text/x-python",
   "name": "python",
   "nbconvert_exporter": "python",
   "pygments_lexer": "ipython3",
   "version": "3.8.12"
  },
  "toc": {
   "base_numbering": 1,
   "nav_menu": {},
   "number_sections": true,
   "sideBar": true,
   "skip_h1_title": false,
   "title_cell": "Table of Contents",
   "title_sidebar": "Contents",
   "toc_cell": false,
   "toc_position": {
    "height": "calc(100% - 180px)",
    "left": "10px",
    "top": "150px",
    "width": "307.2px"
   },
   "toc_section_display": true,
   "toc_window_display": true
  }
 },
 "nbformat": 4,
 "nbformat_minor": 5
}
