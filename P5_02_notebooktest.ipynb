{
 "cells": [
  {
   "cell_type": "markdown",
   "id": "13660a6d",
   "metadata": {},
   "source": [
    "# Installation et import des librairies"
   ]
  },
  {
   "cell_type": "markdown",
   "id": "9d5c426d",
   "metadata": {},
   "source": [
    "- conda install -c conda-forge numpy\n",
    "- conda install -c conda-forge pandas\n",
    "- conda install -c anaconda scikit-learn\n",
    "- conda install -c conda-forge scikit-learn-intelex\n",
    "- conda install -c anaconda gensim  # python=3.8\n",
    "- conda install -c conda-forge tensorflow-hub\n",
    "- pip install --upgrade tensorflow-estimator==2.3.0\n",
    "- conda install -c conda-forge matplotlib\n",
    "- conda install -c anaconda seaborn"
   ]
  },
  {
   "cell_type": "code",
   "execution_count": 1,
   "id": "af29341d",
   "metadata": {},
   "outputs": [
    {
     "name": "stderr",
     "output_type": "stream",
     "text": [
      "Intel(R) Extension for Scikit-learn* enabled (https://github.com/intel/scikit-learn-intelex)\n"
     ]
    }
   ],
   "source": [
    "from sklearnex import patch_sklearn\n",
    "patch_sklearn()"
   ]
  },
  {
   "cell_type": "code",
   "execution_count": 2,
   "id": "f901e886",
   "metadata": {},
   "outputs": [
    {
     "name": "stderr",
     "output_type": "stream",
     "text": [
      "C:\\Users\\james\\anaconda3\\envs\\p5\\lib\\site-packages\\gensim\\similarities\\__init__.py:15: UserWarning: The gensim.similarities.levenshtein submodule is disabled, because the optional Levenshtein package <https://pypi.org/project/python-Levenshtein/> is unavailable. Install Levenhstein (e.g. `pip install python-Levenshtein`) to suppress this warning.\n",
      "  warnings.warn(msg)\n"
     ]
    }
   ],
   "source": [
    "import re\n",
    "import math\n",
    "import time\n",
    "import warnings\n",
    "import numpy as np\n",
    "import pandas as pd\n",
    "\n",
    "# Sklearn\n",
    "from sklearn.model_selection import train_test_split\n",
    "from sklearn.preprocessing import MultiLabelBinarizer\n",
    "from sklearn.model_selection import GridSearchCV\n",
    "from sklearn.pipeline import Pipeline\n",
    "from sklearn.calibration import CalibratedClassifierCV\n",
    "\n",
    "## for preprocessing\n",
    "from sklearn.base import TransformerMixin\n",
    "from sklearn.preprocessing import StandardScaler\n",
    "from sklearn.preprocessing import QuantileTransformer\n",
    "\n",
    "## for classification\n",
    "from sklearn.multioutput import ClassifierChain\n",
    "from sklearn.multiclass import OneVsRestClassifier\n",
    "\n",
    "from sklearn.linear_model import LogisticRegression\n",
    "from sklearn.linear_model import SGDClassifier\n",
    "from sklearn.experimental import enable_hist_gradient_boosting\n",
    "from sklearn.ensemble import HistGradientBoostingClassifier\n",
    "from sklearn.ensemble import RandomForestClassifier\n",
    "\n",
    "## for metrics\n",
    "from sklearn.metrics import accuracy_score, jaccard_score, f1_score\n",
    "\n",
    "## for bag-of-words / Tf-Idf\n",
    "from sklearn.feature_extraction.text import CountVectorizer\n",
    "from sklearn.feature_extraction.text import TfidfVectorizer\n",
    "\n",
    "## for word embedding\n",
    "import gensim\n",
    "import gensim.downloader as gensim_api\n",
    "\n",
    "## for universal sentence encoder\n",
    "import tensorflow_hub as hub\n",
    "\n",
    "## Plotting tools\n",
    "import matplotlib.pyplot as plt\n",
    "from matplotlib.legend_handler import HandlerLine2D\n",
    "import seaborn as sns\n",
    "\n",
    "## dump\n",
    "import joblib"
   ]
  },
  {
   "cell_type": "code",
   "execution_count": 3,
   "id": "754a761f",
   "metadata": {},
   "outputs": [],
   "source": [
    "# Allow to display all dataframes columns\n",
    "pd.set_option(\"display.max_columns\", None)\n",
    "\n",
    "# Inactivate warnings\n",
    "warnings.filterwarnings('ignore')"
   ]
  },
  {
   "cell_type": "markdown",
   "id": "83f22cc3",
   "metadata": {},
   "source": [
    "# Chargement du jeu de données"
   ]
  },
  {
   "cell_type": "code",
   "execution_count": 4,
   "id": "d13f4a52",
   "metadata": {},
   "outputs": [],
   "source": [
    "data = pd.read_pickle('df_save.pkl')  "
   ]
  },
  {
   "cell_type": "code",
   "execution_count": 5,
   "id": "dbb9e9ff",
   "metadata": {},
   "outputs": [
    {
     "data": {
      "text/plain": [
       "(10243, 31)"
      ]
     },
     "execution_count": 5,
     "metadata": {},
     "output_type": "execute_result"
    }
   ],
   "source": [
    "data.shape"
   ]
  },
  {
   "cell_type": "code",
   "execution_count": 6,
   "id": "c9a2de9c",
   "metadata": {},
   "outputs": [
    {
     "data": {
      "text/plain": [
       "Index(['text', 'list_tokens', 'str_tokens', 'Dominant_Topic',\n",
       "       'Perc_Contribution', 'topic_0', 'topic_1', 'topic_2', 'topic_3',\n",
       "       'topic_4', 'topic_5', 'topic_6', 'topic_7', 'topic_8', 'topic_9',\n",
       "       'topic_10', 'topic_11', 'topic_12', 'topic_13', 'topic_14', 'topic_15',\n",
       "       'topic_16', 'topic_17', 'topic_18', 'topic_19', 'topic_20', 'topic_21',\n",
       "       'topic_22', 'topic_23', 'topic_24', 'Tags_list'],\n",
       "      dtype='object')"
      ]
     },
     "execution_count": 6,
     "metadata": {},
     "output_type": "execute_result"
    }
   ],
   "source": [
    "data.columns"
   ]
  },
  {
   "cell_type": "markdown",
   "id": "9d99f783",
   "metadata": {},
   "source": [
    "# Split"
   ]
  },
  {
   "cell_type": "code",
   "execution_count": 7,
   "id": "90f0111b",
   "metadata": {},
   "outputs": [
    {
     "name": "stdout",
     "output_type": "stream",
     "text": [
      "Split Dataset\n",
      "---------------------------------------------------------\n",
      "X_train: (8194, 31)\n",
      "X_test: (2049, 31)\n"
     ]
    }
   ],
   "source": [
    "print('Split Dataset')\n",
    "print('---------------------------------------------------------')\n",
    "X_train, X_test = train_test_split(data, random_state=0, test_size=0.2)\n",
    "print('X_train: ' + str(X_train.shape))\n",
    "print('X_test: ' + str(X_test.shape))"
   ]
  },
  {
   "cell_type": "code",
   "execution_count": 8,
   "id": "a732a645",
   "metadata": {},
   "outputs": [
    {
     "name": "stdout",
     "output_type": "stream",
     "text": [
      "y_train: (8194, 1)\n",
      "y_test: (2049, 1)\n"
     ]
    }
   ],
   "source": [
    "y_train = X_train[['Tags_list']]\n",
    "y_test = X_test[['Tags_list']]\n",
    "print('y_train: ' + str(y_train.shape))\n",
    "print('y_test: ' + str(y_test.shape))"
   ]
  },
  {
   "cell_type": "markdown",
   "id": "04da1245",
   "metadata": {},
   "source": [
    "# Target encoder"
   ]
  },
  {
   "cell_type": "code",
   "execution_count": 25,
   "id": "4337f4e2",
   "metadata": {},
   "outputs": [],
   "source": [
    "mlb = MultiLabelBinarizer()"
   ]
  },
  {
   "cell_type": "code",
   "execution_count": 26,
   "id": "720979fe",
   "metadata": {},
   "outputs": [],
   "source": [
    "y_train = mlb.fit_transform(y_train.Tags_list)"
   ]
  },
  {
   "cell_type": "code",
   "execution_count": 27,
   "id": "b61c0867",
   "metadata": {},
   "outputs": [],
   "source": [
    "y_test = mlb.transform(y_test.Tags_list)"
   ]
  },
  {
   "cell_type": "markdown",
   "id": "64481df3",
   "metadata": {},
   "source": [
    "# Modélisation"
   ]
  },
  {
   "cell_type": "markdown",
   "id": "f6eec718",
   "metadata": {},
   "source": [
    "## Modèles"
   ]
  },
  {
   "cell_type": "code",
   "execution_count": 12,
   "id": "f9cb2874",
   "metadata": {},
   "outputs": [],
   "source": [
    "model_list = list()\n",
    "model_list.append(('LogisticRegression', LogisticRegression(max_iter=1000)))\n",
    "model_list.append(('SGDClassifier', SGDClassifier()))\n",
    "model_list.append(('HistGradientBoostingClassifier', HistGradientBoostingClassifier()))\n",
    "model_list.append(('RandomForestClassifier', RandomForestClassifier()))"
   ]
  },
  {
   "cell_type": "markdown",
   "id": "2ef3457a",
   "metadata": {},
   "source": [
    "## Pipelines"
   ]
  },
  {
   "cell_type": "code",
   "execution_count": 13,
   "id": "6df20363",
   "metadata": {},
   "outputs": [],
   "source": [
    "# A CountVectorizer produces a sparse matrix and the HistGradientBoostingClassifier and \n",
    "# RandomForestClassifier require a dense matrix\n",
    "class DenseTransformer(TransformerMixin):\n",
    "\n",
    "    def fit(self, X, y=None, **fit_params):\n",
    "        return self\n",
    "\n",
    "    def transform(self, X, y=None, **fit_params):\n",
    "        return X.todense()"
   ]
  },
  {
   "cell_type": "code",
   "execution_count": 14,
   "id": "beb7301a",
   "metadata": {},
   "outputs": [],
   "source": [
    "def get_pipelines(feat_model, nb_features):\n",
    "    pipelines = list()\n",
    "\n",
    "    if feat_model == 'bow':\n",
    "        for model_name, model in model_list:\n",
    "            if model_name == 'LogisticRegression':\n",
    "                pipe = Pipeline(steps=[\n",
    "                    ('bow', CountVectorizer(\n",
    "                        max_features=nb_features, ngram_range=(1, 2))),\n",
    "                    ('scaler', StandardScaler(with_mean=False)),\n",
    "                    ('clf', OneVsRestClassifier(model))\n",
    "                ])\n",
    "\n",
    "            elif model_name == 'SGDClassifier':\n",
    "                pipe = Pipeline(steps=[\n",
    "                    ('bow', CountVectorizer(\n",
    "                        max_features=nb_features, ngram_range=(1, 2), )),\n",
    "                    ('scaler', StandardScaler(with_mean=False)),\n",
    "                    ('clf', ClassifierChain(model))\n",
    "                ])\n",
    "\n",
    "            else:\n",
    "                pipe = Pipeline(steps=[\n",
    "                    ('bow', CountVectorizer(\n",
    "                        max_features=nb_features, ngram_range=(1, 2), )),\n",
    "                    ('to_dense', DenseTransformer()),\n",
    "                    ('scaler', StandardScaler(with_mean=False)),\n",
    "                    ('clf', ClassifierChain(model))\n",
    "                ])\n",
    "\n",
    "            pipelines.append((model_name, pipe))\n",
    "\n",
    "    elif feat_model == 'tfidf':\n",
    "        for model_name, model in model_list:\n",
    "            if model_name == 'LogisticRegression':\n",
    "                pipe = Pipeline(steps=[\n",
    "                    ('tfidf', TfidfVectorizer(\n",
    "                        max_features=nb_features, ngram_range=(1, 2))),\n",
    "                    ('scaler', StandardScaler(with_mean=False)),\n",
    "                    ('clf', OneVsRestClassifier(model))\n",
    "                ])\n",
    "\n",
    "            elif model_name == 'SGDClassifier':\n",
    "                pipe = Pipeline(steps=[\n",
    "                    ('tfidf', TfidfVectorizer(\n",
    "                        max_features=nb_features, ngram_range=(1, 2))),\n",
    "                    ('scaler', StandardScaler(with_mean=False)),\n",
    "                    ('clf', ClassifierChain(model))\n",
    "                ])\n",
    "\n",
    "            else:\n",
    "                pipe = Pipeline(steps=[\n",
    "                    ('tfidf', TfidfVectorizer(\n",
    "                        max_features=nb_features, ngram_range=(1, 2))),\n",
    "                    ('to_dense', DenseTransformer()),\n",
    "                    ('scaler', StandardScaler(with_mean=False)),\n",
    "                    ('clf', ClassifierChain(model))\n",
    "                ])\n",
    "\n",
    "            pipelines.append((model_name, pipe))\n",
    "\n",
    "    else:\n",
    "        for model_name, model in model_list:\n",
    "            if model_name == 'LogisticRegression':\n",
    "                if feat_model == 'w2v':\n",
    "                    pipe = Pipeline(steps=[\n",
    "                        ('scaler', QuantileTransformer()),\n",
    "                        ('model', OneVsRestClassifier(model))\n",
    "                    ])\n",
    "                else:\n",
    "                    pipe = Pipeline(steps=[\n",
    "                        ('scaler', StandardScaler()),\n",
    "                        ('model', OneVsRestClassifier(model))\n",
    "                    ])\n",
    "            else:\n",
    "                pipe = Pipeline(steps=[\n",
    "                    ('scaler', StandardScaler()),\n",
    "                    ('model', ClassifierChain(model))\n",
    "                ])\n",
    "\n",
    "            pipelines.append((model_name, pipe))\n",
    "\n",
    "    return pipelines"
   ]
  },
  {
   "cell_type": "markdown",
   "id": "355dee3d",
   "metadata": {},
   "source": [
    "\n",
    "\n",
    "# Extraction de tags"
   ]
  },
  {
   "cell_type": "code",
   "execution_count": 15,
   "id": "af3842b4",
   "metadata": {},
   "outputs": [],
   "source": [
    "models = []\n",
    "\n",
    "for model_name, model in model_list:\n",
    "    models.append(re.sub('[^A-Z]', '', model_name))"
   ]
  },
  {
   "cell_type": "code",
   "execution_count": 16,
   "id": "078a30e3",
   "metadata": {},
   "outputs": [],
   "source": [
    "def graphFitScore(model_list, data1, data2, ylabel, title, label1, label2):\n",
    "    N = len(model_list) \n",
    "\n",
    "    ind = np.arange(N) \n",
    "    width = 0.35       \n",
    "    plt.bar(ind, data1, width, label=label1)\n",
    "    plt.bar(ind + width, data2, width, label=label2)\n",
    "    \n",
    "    plt.ylabel(ylabel)\n",
    "    plt.title(title)\n",
    "\n",
    "    plt.xticks(ind + width / 2, models)\n",
    "    plt.legend(loc='best')\n",
    "    plt.gcf().savefig(title, dpi=100)\n",
    "    plt.show()"
   ]
  },
  {
   "cell_type": "code",
   "execution_count": 17,
   "id": "cde77408",
   "metadata": {},
   "outputs": [],
   "source": [
    "def graph(model_list, train, test, ylabel, title):\n",
    "    N = len(model_list)\n",
    "\n",
    "    ind = np.arange(N) \n",
    "    width = 0.35       \n",
    "    plt.bar(ind, train, width, label='train')\n",
    "    plt.bar(ind + width, test, width, label='test')\n",
    "\n",
    "    plt.ylabel(ylabel)\n",
    "    plt.title(title)\n",
    "\n",
    "    plt.xticks(ind + width / 2, models)\n",
    "    plt.legend(loc='best')\n",
    "    plt.gcf().savefig(title, dpi=100)\n",
    "    plt.show()"
   ]
  },
  {
   "cell_type": "code",
   "execution_count": 18,
   "id": "58a3b317",
   "metadata": {},
   "outputs": [],
   "source": [
    "def eval_model(feat_model, nb_features, X, y, display):\n",
    "\n",
    "    fit_times = ()\n",
    "    score_times = ()\n",
    "    scores_train = ()\n",
    "    scores_test = ()\n",
    "    grids = dict()\n",
    "\n",
    "    # Evaluation\n",
    "    for name, pipeline in get_pipelines(feat_model, nb_features):\n",
    "        print('-------------------------------------------------------')\n",
    "        print(name)\n",
    "        print('-------------------------------------------------------')\n",
    "        print('Start: ', time.asctime())\n",
    "\n",
    "        grid = GridSearchCV(pipeline,\n",
    "                            param_grid={},\n",
    "                            scoring='f1_samples',\n",
    "                            verbose=1,\n",
    "                            cv=5,\n",
    "                            n_jobs=-1,\n",
    "                            return_train_score=True,\n",
    "                            refit=True)\n",
    "\n",
    "        grid.fit(X, y)\n",
    "\n",
    "        mean_fit_time = grid.cv_results_['mean_fit_time'][grid.best_index_]\n",
    "        fit_times = fit_times + (mean_fit_time,)\n",
    "        if display:\n",
    "            print('mean_fit_time: ' + str(mean_fit_time))\n",
    "\n",
    "        mean_score_time = grid.cv_results_['mean_score_time'][grid.best_index_]\n",
    "        score_times = score_times + (mean_score_time,)\n",
    "        if display:\n",
    "            print('mean_score_time: ' + str(mean_score_time))\n",
    "\n",
    "        mean_train_score = grid.cv_results_['mean_train_score'][grid.best_index_]\n",
    "        scores_train = scores_train + (mean_train_score,)\n",
    "        if display:\n",
    "            print('mean_train_score: ' + str(mean_train_score))\n",
    "\n",
    "        mean_test_score = grid.cv_results_['mean_test_score'][grid.best_index_]\n",
    "        scores_test = scores_test + (mean_test_score,)\n",
    "        if display:\n",
    "            print('mean_test_score: ' + str(mean_test_score))\n",
    "\n",
    "        grids[name] = grid\n",
    "\n",
    "        print('End: ', time.asctime())\n",
    "        print('')\n",
    "\n",
    "    # Graphs\n",
    "    graphFitScore(model_list, fit_times, score_times, 'Time',\n",
    "                  feat_model + ' - Fit et score times par modèle', 'fit_time', 'score_time')\n",
    "\n",
    "    graph(model_list, scores_train, scores_test,\n",
    "          'Scores', feat_model + ' - Scores par modèle')\n",
    "\n",
    "    return grids"
   ]
  },
  {
   "cell_type": "code",
   "execution_count": 40,
   "id": "d00f62ba",
   "metadata": {},
   "outputs": [],
   "source": [
    "eval_acc = {}\n",
    "eval_jac = {}\n",
    "eval_f1 = {}\n",
    "\n",
    "def evaluation(case, y_true, y_pred, average):\n",
    "    global eval_acc, eval_jac, eval_f1\n",
    "    \n",
    "    # Accuracy\n",
    "    accuracy = accuracy_score(y_true, y_pred)\n",
    "    print(\"Accuracy:\",  round(accuracy,3))\n",
    "    \n",
    "    # jacard\n",
    "    jacard = jaccard_score(y_true, y_pred, average=average)\n",
    "    print('Jacard:', round(jacard,3)) \n",
    "    \n",
    "    # f1\n",
    "    f1 = f1_score(y_true=y_true, y_pred=y_pred, average=average)\n",
    "    print('F1:', round(f1,3)) \n",
    "    \n",
    "    eval_acc[case] = accuracy    \n",
    "    eval_jac[case] = jacard\n",
    "    eval_f1[case] = f1"
   ]
  },
  {
   "cell_type": "markdown",
   "id": "9392b660",
   "metadata": {},
   "source": [
    "## Approche semi-supervisée"
   ]
  },
  {
   "cell_type": "code",
   "execution_count": 20,
   "id": "9e943968",
   "metadata": {},
   "outputs": [
    {
     "name": "stdout",
     "output_type": "stream",
     "text": [
      "X_train_semi: (8194, 27)\n",
      "X_test_semi: (2049, 27)\n"
     ]
    }
   ],
   "source": [
    "X_train_semi = X_train.loc[:, (X_train.columns != 'text') &\n",
    "                              (X_train.columns != 'list_tokens') &\n",
    "                              (X_train.columns != 'str_tokens') &\n",
    "                              (X_train.columns != 'Tags_list')\n",
    "                           ]\n",
    "X_test_semi = X_test.loc[:, (X_test.columns != 'text') &\n",
    "                            (X_test.columns != 'list_tokens') &\n",
    "                            (X_test.columns != 'str_tokens') &\n",
    "                            (X_test.columns != 'Tags_list')\n",
    "                         ]\n",
    "print('X_train_semi: ' + str(X_train_semi.shape))\n",
    "print('X_test_semi: ' + str(X_test_semi.shape))"
   ]
  },
  {
   "cell_type": "code",
   "execution_count": 21,
   "id": "e6eedfe6",
   "metadata": {
    "scrolled": true
   },
   "outputs": [
    {
     "name": "stdout",
     "output_type": "stream",
     "text": [
      "-------------------------------------------------------\n",
      "LogisticRegression\n",
      "-------------------------------------------------------\n",
      "Start:  Sun Feb 20 15:41:09 2022\n",
      "Fitting 5 folds for each of 1 candidates, totalling 5 fits\n"
     ]
    },
    {
     "name": "stderr",
     "output_type": "stream",
     "text": [
      "[Parallel(n_jobs=-1)]: Using backend LokyBackend with 16 concurrent workers.\n",
      "[Parallel(n_jobs=-1)]: Done   5 out of   5 | elapsed:    2.2s finished\n"
     ]
    },
    {
     "name": "stdout",
     "output_type": "stream",
     "text": [
      "End:  Sun Feb 20 15:41:11 2022\n",
      "\n",
      "-------------------------------------------------------\n",
      "SGDClassifier\n",
      "-------------------------------------------------------\n",
      "Start:  Sun Feb 20 15:41:11 2022\n",
      "Fitting 5 folds for each of 1 candidates, totalling 5 fits\n"
     ]
    },
    {
     "name": "stderr",
     "output_type": "stream",
     "text": [
      "[Parallel(n_jobs=-1)]: Using backend LokyBackend with 16 concurrent workers.\n",
      "[Parallel(n_jobs=-1)]: Done   5 out of   5 | elapsed:    2.4s finished\n"
     ]
    },
    {
     "name": "stdout",
     "output_type": "stream",
     "text": [
      "End:  Sun Feb 20 15:41:15 2022\n",
      "\n",
      "-------------------------------------------------------\n",
      "HistGradientBoostingClassifier\n",
      "-------------------------------------------------------\n",
      "Start:  Sun Feb 20 15:41:15 2022\n",
      "Fitting 5 folds for each of 1 candidates, totalling 5 fits\n"
     ]
    },
    {
     "name": "stderr",
     "output_type": "stream",
     "text": [
      "[Parallel(n_jobs=-1)]: Using backend LokyBackend with 16 concurrent workers.\n",
      "[Parallel(n_jobs=-1)]: Done   5 out of   5 | elapsed:   58.0s finished\n"
     ]
    },
    {
     "name": "stdout",
     "output_type": "stream",
     "text": [
      "End:  Sun Feb 20 15:43:11 2022\n",
      "\n",
      "-------------------------------------------------------\n",
      "RandomForestClassifier\n",
      "-------------------------------------------------------\n",
      "Start:  Sun Feb 20 15:43:11 2022\n",
      "Fitting 5 folds for each of 1 candidates, totalling 5 fits\n"
     ]
    },
    {
     "name": "stderr",
     "output_type": "stream",
     "text": [
      "[Parallel(n_jobs=-1)]: Using backend LokyBackend with 16 concurrent workers.\n",
      "[Parallel(n_jobs=-1)]: Done   5 out of   5 | elapsed:    7.5s finished\n"
     ]
    },
    {
     "name": "stdout",
     "output_type": "stream",
     "text": [
      "End:  Sun Feb 20 15:43:22 2022\n",
      "\n"
     ]
    },
    {
     "data": {
      "image/png": "[encoded data removed]",
      "text/plain": [
       "<Figure size 432x288 with 1 Axes>"
      ]
     },
     "metadata": {
      "needs_background": "light"
     },
     "output_type": "display_data"
    },
    {
     "data": {
      "image/png": "[encoded data removed]",
      "text/plain": [
       "<Figure size 432x288 with 1 Axes>"
      ]
     },
     "metadata": {
      "needs_background": "light"
     },
     "output_type": "display_data"
    }
   ],
   "source": [
    "grids = eval_model('lda', None, X_train_semi, y_train, False)"
   ]
  },
  {
   "cell_type": "code",
   "execution_count": 22,
   "id": "8bcd7893",
   "metadata": {},
   "outputs": [],
   "source": [
    "lda = grids['SGDClassifier']"
   ]
  },
  {
   "cell_type": "code",
   "execution_count": 23,
   "id": "2e2bcf2a",
   "metadata": {},
   "outputs": [
    {
     "name": "stdout",
     "output_type": "stream",
     "text": [
      "Fitting 5 folds for each of 1 candidates, totalling 5 fits\n"
     ]
    },
    {
     "name": "stderr",
     "output_type": "stream",
     "text": [
      "[Parallel(n_jobs=-1)]: Using backend LokyBackend with 16 concurrent workers.\n",
      "[Parallel(n_jobs=-1)]: Done   5 out of   5 | elapsed:    1.5s finished\n"
     ]
    },
    {
     "data": {
      "text/plain": [
       "GridSearchCV(cv=5,\n",
       "             estimator=Pipeline(steps=[('scaler', StandardScaler()),\n",
       "                                       ('model',\n",
       "                                        ClassifierChain(base_estimator=SGDClassifier()))]),\n",
       "             n_jobs=-1, param_grid={}, return_train_score=True,\n",
       "             scoring='f1_samples', verbose=1)"
      ]
     },
     "execution_count": 23,
     "metadata": {},
     "output_type": "execute_result"
    }
   ],
   "source": [
    "lda.fit(X_train_semi, y_train)"
   ]
  },
  {
   "cell_type": "code",
   "execution_count": 24,
   "id": "a42f64bd",
   "metadata": {},
   "outputs": [],
   "source": [
    "predicted_semi = lda.predict(X_test_semi)"
   ]
  },
  {
   "cell_type": "code",
   "execution_count": 25,
   "id": "b431531c",
   "metadata": {},
   "outputs": [
    {
     "name": "stdout",
     "output_type": "stream",
     "text": [
      "Accuracy: 0.091\n",
      "Jacard: 0.157\n",
      "F1: 0.178\n"
     ]
    }
   ],
   "source": [
    "evaluation('lda', y_test, predicted_semi, 'samples')"
   ]
  },
  {
   "cell_type": "markdown",
   "id": "25d2d0c7",
   "metadata": {},
   "source": [
    "## Approche supervisée"
   ]
  },
  {
   "cell_type": "code",
   "execution_count": 9,
   "id": "37347f45",
   "metadata": {},
   "outputs": [],
   "source": [
    "nb_features = 200"
   ]
  },
  {
   "cell_type": "markdown",
   "id": "2e7942af",
   "metadata": {},
   "source": [
    "### Bag of words"
   ]
  },
  {
   "cell_type": "code",
   "execution_count": 27,
   "id": "7dace07b",
   "metadata": {},
   "outputs": [],
   "source": [
    "X_train_bow = X_train.str_tokens\n",
    "X_test_bow = X_test.str_tokens"
   ]
  },
  {
   "cell_type": "code",
   "execution_count": 28,
   "id": "44a523ca",
   "metadata": {},
   "outputs": [
    {
     "name": "stdout",
     "output_type": "stream",
     "text": [
      "-------------------------------------------------------\n",
      "LogisticRegression\n",
      "-------------------------------------------------------\n",
      "Start:  Sun Feb 20 15:43:25 2022\n",
      "Fitting 5 folds for each of 1 candidates, totalling 5 fits\n"
     ]
    },
    {
     "name": "stderr",
     "output_type": "stream",
     "text": [
      "[Parallel(n_jobs=-1)]: Using backend LokyBackend with 16 concurrent workers.\n",
      "[Parallel(n_jobs=-1)]: Done   5 out of   5 | elapsed:    4.1s finished\n"
     ]
    },
    {
     "name": "stdout",
     "output_type": "stream",
     "text": [
      "End:  Sun Feb 20 15:43:34 2022\n",
      "\n",
      "-------------------------------------------------------\n",
      "SGDClassifier\n",
      "-------------------------------------------------------\n",
      "Start:  Sun Feb 20 15:43:34 2022\n",
      "Fitting 5 folds for each of 1 candidates, totalling 5 fits\n"
     ]
    },
    {
     "name": "stderr",
     "output_type": "stream",
     "text": [
      "[Parallel(n_jobs=-1)]: Using backend LokyBackend with 16 concurrent workers.\n",
      "[Parallel(n_jobs=-1)]: Done   5 out of   5 | elapsed:    2.5s finished\n"
     ]
    },
    {
     "name": "stdout",
     "output_type": "stream",
     "text": [
      "End:  Sun Feb 20 15:43:38 2022\n",
      "\n",
      "-------------------------------------------------------\n",
      "HistGradientBoostingClassifier\n",
      "-------------------------------------------------------\n",
      "Start:  Sun Feb 20 15:43:38 2022\n",
      "Fitting 5 folds for each of 1 candidates, totalling 5 fits\n"
     ]
    },
    {
     "name": "stderr",
     "output_type": "stream",
     "text": [
      "[Parallel(n_jobs=-1)]: Using backend LokyBackend with 16 concurrent workers.\n",
      "[Parallel(n_jobs=-1)]: Done   5 out of   5 | elapsed:  3.9min finished\n"
     ]
    },
    {
     "name": "stdout",
     "output_type": "stream",
     "text": [
      "End:  Sun Feb 20 15:50:26 2022\n",
      "\n",
      "-------------------------------------------------------\n",
      "RandomForestClassifier\n",
      "-------------------------------------------------------\n",
      "Start:  Sun Feb 20 15:50:26 2022\n",
      "Fitting 5 folds for each of 1 candidates, totalling 5 fits\n"
     ]
    },
    {
     "name": "stderr",
     "output_type": "stream",
     "text": [
      "[Parallel(n_jobs=-1)]: Using backend LokyBackend with 16 concurrent workers.\n",
      "[Parallel(n_jobs=-1)]: Done   5 out of   5 | elapsed:   49.0s finished\n"
     ]
    },
    {
     "name": "stdout",
     "output_type": "stream",
     "text": [
      "End:  Sun Feb 20 15:51:45 2022\n",
      "\n"
     ]
    },
    {
     "data": {
      "image/png": "[encoded data removed]",
      "text/plain": [
       "<Figure size 432x288 with 1 Axes>"
      ]
     },
     "metadata": {
      "needs_background": "light"
     },
     "output_type": "display_data"
    },
    {
     "data": {
      "image/png": "[encoded data removed]",
      "text/plain": [
       "<Figure size 432x288 with 1 Axes>"
      ]
     },
     "metadata": {
      "needs_background": "light"
     },
     "output_type": "display_data"
    }
   ],
   "source": [
    "grids = eval_model('bow', nb_features, X_train_bow, y_train, False)"
   ]
  },
  {
   "cell_type": "code",
   "execution_count": 29,
   "id": "7993394b",
   "metadata": {},
   "outputs": [],
   "source": [
    "bow = grids['SGDClassifier']"
   ]
  },
  {
   "cell_type": "code",
   "execution_count": 30,
   "id": "bb48112f",
   "metadata": {},
   "outputs": [
    {
     "name": "stdout",
     "output_type": "stream",
     "text": [
      "Fitting 5 folds for each of 1 candidates, totalling 5 fits\n"
     ]
    },
    {
     "name": "stderr",
     "output_type": "stream",
     "text": [
      "[Parallel(n_jobs=-1)]: Using backend LokyBackend with 16 concurrent workers.\n",
      "[Parallel(n_jobs=-1)]: Done   5 out of   5 | elapsed:    3.5s finished\n"
     ]
    },
    {
     "data": {
      "text/plain": [
       "GridSearchCV(cv=5,\n",
       "             estimator=Pipeline(steps=[('bow',\n",
       "                                        CountVectorizer(max_features=200,\n",
       "                                                        ngram_range=(1, 2))),\n",
       "                                       ('scaler',\n",
       "                                        StandardScaler(with_mean=False)),\n",
       "                                       ('clf',\n",
       "                                        ClassifierChain(base_estimator=SGDClassifier()))]),\n",
       "             n_jobs=-1, param_grid={}, return_train_score=True,\n",
       "             scoring='f1_samples', verbose=1)"
      ]
     },
     "execution_count": 30,
     "metadata": {},
     "output_type": "execute_result"
    }
   ],
   "source": [
    "bow.fit(X_train_bow, y_train)"
   ]
  },
  {
   "cell_type": "code",
   "execution_count": 31,
   "id": "94b58926",
   "metadata": {},
   "outputs": [],
   "source": [
    "y_pred_bow = bow.predict(X_test_bow)"
   ]
  },
  {
   "cell_type": "code",
   "execution_count": 32,
   "id": "8725ddd8",
   "metadata": {},
   "outputs": [
    {
     "name": "stdout",
     "output_type": "stream",
     "text": [
      "Accuracy: 0.261\n",
      "Jacard: 0.419\n",
      "F1: 0.474\n"
     ]
    }
   ],
   "source": [
    "evaluation('bow', y_test, y_pred_bow, 'samples')"
   ]
  },
  {
   "cell_type": "markdown",
   "id": "837854dd",
   "metadata": {},
   "source": [
    "### Tf-Idf"
   ]
  },
  {
   "cell_type": "code",
   "execution_count": 14,
   "id": "8f88a54a",
   "metadata": {},
   "outputs": [],
   "source": [
    "X_train_tfidf = X_train.str_tokens\n",
    "X_test_tfidf = X_test.str_tokens"
   ]
  },
  {
   "cell_type": "code",
   "execution_count": 34,
   "id": "44e897bf",
   "metadata": {},
   "outputs": [
    {
     "name": "stdout",
     "output_type": "stream",
     "text": [
      "-------------------------------------------------------\n",
      "LogisticRegression\n",
      "-------------------------------------------------------\n",
      "Start:  Sun Feb 20 15:51:52 2022\n",
      "Fitting 5 folds for each of 1 candidates, totalling 5 fits\n"
     ]
    },
    {
     "name": "stderr",
     "output_type": "stream",
     "text": [
      "[Parallel(n_jobs=-1)]: Using backend LokyBackend with 16 concurrent workers.\n",
      "[Parallel(n_jobs=-1)]: Done   5 out of   5 | elapsed:    5.2s finished\n"
     ]
    },
    {
     "name": "stdout",
     "output_type": "stream",
     "text": [
      "End:  Sun Feb 20 15:52:02 2022\n",
      "\n",
      "-------------------------------------------------------\n",
      "SGDClassifier\n",
      "-------------------------------------------------------\n",
      "Start:  Sun Feb 20 15:52:02 2022\n",
      "Fitting 5 folds for each of 1 candidates, totalling 5 fits\n"
     ]
    },
    {
     "name": "stderr",
     "output_type": "stream",
     "text": [
      "[Parallel(n_jobs=-1)]: Using backend LokyBackend with 16 concurrent workers.\n",
      "[Parallel(n_jobs=-1)]: Done   5 out of   5 | elapsed:    3.8s finished\n"
     ]
    },
    {
     "name": "stdout",
     "output_type": "stream",
     "text": [
      "End:  Sun Feb 20 15:52:09 2022\n",
      "\n",
      "-------------------------------------------------------\n",
      "HistGradientBoostingClassifier\n",
      "-------------------------------------------------------\n",
      "Start:  Sun Feb 20 15:52:09 2022\n",
      "Fitting 5 folds for each of 1 candidates, totalling 5 fits\n"
     ]
    },
    {
     "name": "stderr",
     "output_type": "stream",
     "text": [
      "[Parallel(n_jobs=-1)]: Using backend LokyBackend with 16 concurrent workers.\n",
      "[Parallel(n_jobs=-1)]: Done   5 out of   5 | elapsed:  4.4min finished\n"
     ]
    },
    {
     "name": "stdout",
     "output_type": "stream",
     "text": [
      "End:  Sun Feb 20 15:59:34 2022\n",
      "\n",
      "-------------------------------------------------------\n",
      "RandomForestClassifier\n",
      "-------------------------------------------------------\n",
      "Start:  Sun Feb 20 15:59:34 2022\n",
      "Fitting 5 folds for each of 1 candidates, totalling 5 fits\n"
     ]
    },
    {
     "name": "stderr",
     "output_type": "stream",
     "text": [
      "[Parallel(n_jobs=-1)]: Using backend LokyBackend with 16 concurrent workers.\n",
      "[Parallel(n_jobs=-1)]: Done   5 out of   5 | elapsed:   43.8s finished\n"
     ]
    },
    {
     "name": "stdout",
     "output_type": "stream",
     "text": [
      "End:  Sun Feb 20 16:00:44 2022\n",
      "\n"
     ]
    },
    {
     "data": {
      "image/png": "[encoded data removed]",
      "text/plain": [
       "<Figure size 432x288 with 1 Axes>"
      ]
     },
     "metadata": {
      "needs_background": "light"
     },
     "output_type": "display_data"
    },
    {
     "data": {
      "image/png": "[encoded data removed]",
      "text/plain": [
       "<Figure size 432x288 with 1 Axes>"
      ]
     },
     "metadata": {
      "needs_background": "light"
     },
     "output_type": "display_data"
    }
   ],
   "source": [
    "grids = eval_model('tfidf', nb_features, X_train_tfidf, y_train, False)"
   ]
  },
  {
   "cell_type": "code",
   "execution_count": 35,
   "id": "52018361",
   "metadata": {},
   "outputs": [],
   "source": [
    "tfidf = grids['SGDClassifier']"
   ]
  },
  {
   "cell_type": "code",
   "execution_count": 36,
   "id": "d014ad97",
   "metadata": {},
   "outputs": [
    {
     "name": "stdout",
     "output_type": "stream",
     "text": [
      "Fitting 5 folds for each of 1 candidates, totalling 5 fits\n"
     ]
    },
    {
     "name": "stderr",
     "output_type": "stream",
     "text": [
      "[Parallel(n_jobs=-1)]: Using backend LokyBackend with 16 concurrent workers.\n",
      "[Parallel(n_jobs=-1)]: Done   5 out of   5 | elapsed:    4.3s finished\n"
     ]
    },
    {
     "data": {
      "text/plain": [
       "GridSearchCV(cv=5,\n",
       "             estimator=Pipeline(steps=[('tfidf',\n",
       "                                        TfidfVectorizer(max_features=200,\n",
       "                                                        ngram_range=(1, 2))),\n",
       "                                       ('scaler',\n",
       "                                        StandardScaler(with_mean=False)),\n",
       "                                       ('clf',\n",
       "                                        ClassifierChain(base_estimator=SGDClassifier()))]),\n",
       "             n_jobs=-1, param_grid={}, return_train_score=True,\n",
       "             scoring='f1_samples', verbose=1)"
      ]
     },
     "execution_count": 36,
     "metadata": {},
     "output_type": "execute_result"
    }
   ],
   "source": [
    "tfidf.fit(X_train_tfidf, y_train)"
   ]
  },
  {
   "cell_type": "code",
   "execution_count": 37,
   "id": "d503428a",
   "metadata": {},
   "outputs": [],
   "source": [
    "y_pred_tfidf = tfidf.predict(X_test_tfidf)"
   ]
  },
  {
   "cell_type": "code",
   "execution_count": 38,
   "id": "b20d7b65",
   "metadata": {},
   "outputs": [
    {
     "name": "stdout",
     "output_type": "stream",
     "text": [
      "Accuracy: 0.271\n",
      "Jacard: 0.439\n",
      "F1: 0.499\n"
     ]
    }
   ],
   "source": [
    "evaluation('tfidf', y_test, y_pred_tfidf, 'samples')"
   ]
  },
  {
   "cell_type": "markdown",
   "id": "267f5158",
   "metadata": {},
   "source": [
    "### Word Embedding"
   ]
  },
  {
   "cell_type": "code",
   "execution_count": 39,
   "id": "873dcf6e",
   "metadata": {},
   "outputs": [],
   "source": [
    "# create corpus\n",
    "corpus = data['str_tokens']"
   ]
  },
  {
   "cell_type": "code",
   "execution_count": 40,
   "id": "fe62c100",
   "metadata": {},
   "outputs": [],
   "source": [
    "# create list of lists of unigrams\n",
    "lst_corpus = []\n",
    "for string in corpus:\n",
    "    lst_words = string.split()\n",
    "    lst_corpus.append(lst_words)"
   ]
  },
  {
   "cell_type": "code",
   "execution_count": 41,
   "id": "73a98bcd",
   "metadata": {},
   "outputs": [],
   "source": [
    "## detect bigrams and trigrams\n",
    "bigrams_detector = gensim.models.phrases.Phrases(lst_corpus, min_count=2, threshold=100)\n",
    "bigrams_detector = gensim.models.phrases.Phraser(bigrams_detector)"
   ]
  },
  {
   "cell_type": "code",
   "execution_count": 42,
   "id": "2736da46",
   "metadata": {},
   "outputs": [],
   "source": [
    "# fit w2v\n",
    "w2v = gensim.models.word2vec.Word2Vec(lst_corpus, vector_size=nb_features,\n",
    "                                      window=10, min_count=1, sg=0)"
   ]
  },
  {
   "cell_type": "code",
   "execution_count": 43,
   "id": "7dcedbca",
   "metadata": {},
   "outputs": [],
   "source": [
    "def drop(df, col_list):\n",
    "    df = df.drop(col_list, axis=1)\n",
    "    return df"
   ]
  },
  {
   "cell_type": "code",
   "execution_count": 44,
   "id": "8c22570a",
   "metadata": {},
   "outputs": [],
   "source": [
    "def transform_w2v(X, nb_features):\n",
    "    # Create a working copy of the dataset\n",
    "    X = X.copy()\n",
    "    \n",
    "    # make sure indexes pair with number of rows\n",
    "    X = X.reset_index()  \n",
    "    X = drop(X, ['index'])\n",
    "    \n",
    "    # For each post, get the sum of w2v vector for each word\n",
    "    result =[]\n",
    "\n",
    "    for index, row in X.iterrows():\n",
    "        try:\n",
    "            sentence = row['str_tokens'].split(' ')\n",
    "            sum_vectors = (0, )\n",
    "\n",
    "            for word in sentence:\n",
    "                # get word's vector\n",
    "                vector = w2v.wv[word]\n",
    "                # sum vector\n",
    "                sum_vectors = sum_vectors + vector\n",
    "\n",
    "            result.append(list(sum_vectors))\n",
    "        except KeyError:\n",
    "            result.append((0, ))\n",
    "            \n",
    "    result = np.array(result).tolist()\n",
    "    \n",
    "    # Add empty columns to dataframe\n",
    "    columns_list = []\n",
    "    for i in range(nb_features):\n",
    "        columns_list.append('v_' + str(i))\n",
    "    \n",
    "    # Concat new columns with existing dataframe\n",
    "    X = pd.concat(\n",
    "        [\n",
    "            X,\n",
    "            pd.DataFrame(\n",
    "                result, \n",
    "                index=X.index, \n",
    "                columns=columns_list\n",
    "            )\n",
    "        ], axis=1\n",
    "    )\n",
    "    \n",
    "    # If nan value, fill with 0\n",
    "    X = X.fillna(0)\n",
    "            \n",
    "    # Filter\n",
    "    X = X[columns_list]\n",
    "    \n",
    "    return X"
   ]
  },
  {
   "cell_type": "code",
   "execution_count": 45,
   "id": "42c8fbfd",
   "metadata": {},
   "outputs": [],
   "source": [
    "X_train_w2v = transform_w2v(X_train, nb_features)"
   ]
  },
  {
   "cell_type": "code",
   "execution_count": 46,
   "id": "c8970dd0",
   "metadata": {},
   "outputs": [],
   "source": [
    "X_test_w2v = transform_w2v(X_test, nb_features)"
   ]
  },
  {
   "cell_type": "code",
   "execution_count": 47,
   "id": "e47cfb87",
   "metadata": {},
   "outputs": [
    {
     "name": "stdout",
     "output_type": "stream",
     "text": [
      "-------------------------------------------------------\n",
      "LogisticRegression\n",
      "-------------------------------------------------------\n",
      "Start:  Sun Feb 20 16:00:58 2022\n",
      "Fitting 5 folds for each of 1 candidates, totalling 5 fits\n"
     ]
    },
    {
     "name": "stderr",
     "output_type": "stream",
     "text": [
      "[Parallel(n_jobs=-1)]: Using backend LokyBackend with 16 concurrent workers.\n",
      "[Parallel(n_jobs=-1)]: Done   5 out of   5 | elapsed:   34.4s finished\n"
     ]
    },
    {
     "name": "stdout",
     "output_type": "stream",
     "text": [
      "End:  Sun Feb 20 16:01:36 2022\n",
      "\n",
      "-------------------------------------------------------\n",
      "SGDClassifier\n",
      "-------------------------------------------------------\n",
      "Start:  Sun Feb 20 16:01:36 2022\n",
      "Fitting 5 folds for each of 1 candidates, totalling 5 fits\n"
     ]
    },
    {
     "name": "stderr",
     "output_type": "stream",
     "text": [
      "[Parallel(n_jobs=-1)]: Using backend LokyBackend with 16 concurrent workers.\n",
      "[Parallel(n_jobs=-1)]: Done   5 out of   5 | elapsed:   25.6s finished\n"
     ]
    },
    {
     "name": "stdout",
     "output_type": "stream",
     "text": [
      "End:  Sun Feb 20 16:02:21 2022\n",
      "\n",
      "-------------------------------------------------------\n",
      "HistGradientBoostingClassifier\n",
      "-------------------------------------------------------\n",
      "Start:  Sun Feb 20 16:02:21 2022\n",
      "Fitting 5 folds for each of 1 candidates, totalling 5 fits\n"
     ]
    },
    {
     "name": "stderr",
     "output_type": "stream",
     "text": [
      "[Parallel(n_jobs=-1)]: Using backend LokyBackend with 16 concurrent workers.\n",
      "[Parallel(n_jobs=-1)]: Done   5 out of   5 | elapsed:  4.9min finished\n"
     ]
    },
    {
     "name": "stdout",
     "output_type": "stream",
     "text": [
      "End:  Sun Feb 20 16:10:16 2022\n",
      "\n",
      "-------------------------------------------------------\n",
      "RandomForestClassifier\n",
      "-------------------------------------------------------\n",
      "Start:  Sun Feb 20 16:10:16 2022\n",
      "Fitting 5 folds for each of 1 candidates, totalling 5 fits\n"
     ]
    },
    {
     "name": "stderr",
     "output_type": "stream",
     "text": [
      "[Parallel(n_jobs=-1)]: Using backend LokyBackend with 16 concurrent workers.\n",
      "[Parallel(n_jobs=-1)]: Done   5 out of   5 | elapsed:   19.7s finished\n"
     ]
    },
    {
     "name": "stdout",
     "output_type": "stream",
     "text": [
      "End:  Sun Feb 20 16:10:42 2022\n",
      "\n"
     ]
    },
    {
     "data": {
      "image/png": "[encoded data removed]",
      "text/plain": [
       "<Figure size 432x288 with 1 Axes>"
      ]
     },
     "metadata": {
      "needs_background": "light"
     },
     "output_type": "display_data"
    },
    {
     "data": {
      "image/png": "[encoded data removed]",
      "text/plain": [
       "<Figure size 432x288 with 1 Axes>"
      ]
     },
     "metadata": {
      "needs_background": "light"
     },
     "output_type": "display_data"
    }
   ],
   "source": [
    "grids = eval_model('w2v', None, X_train_w2v, y_train, False)"
   ]
  },
  {
   "cell_type": "code",
   "execution_count": 48,
   "id": "32adb3d5",
   "metadata": {},
   "outputs": [],
   "source": [
    "w2v = grids['SGDClassifier']"
   ]
  },
  {
   "cell_type": "code",
   "execution_count": 49,
   "id": "999a12fe",
   "metadata": {},
   "outputs": [
    {
     "name": "stdout",
     "output_type": "stream",
     "text": [
      "Fitting 5 folds for each of 1 candidates, totalling 5 fits\n"
     ]
    },
    {
     "name": "stderr",
     "output_type": "stream",
     "text": [
      "[Parallel(n_jobs=-1)]: Using backend LokyBackend with 16 concurrent workers.\n",
      "[Parallel(n_jobs=-1)]: Done   5 out of   5 | elapsed:   28.0s finished\n"
     ]
    },
    {
     "data": {
      "text/plain": [
       "GridSearchCV(cv=5,\n",
       "             estimator=Pipeline(steps=[('scaler', StandardScaler()),\n",
       "                                       ('model',\n",
       "                                        ClassifierChain(base_estimator=SGDClassifier()))]),\n",
       "             n_jobs=-1, param_grid={}, return_train_score=True,\n",
       "             scoring='f1_samples', verbose=1)"
      ]
     },
     "execution_count": 49,
     "metadata": {},
     "output_type": "execute_result"
    }
   ],
   "source": [
    "w2v.fit(X_train_w2v, y_train)"
   ]
  },
  {
   "cell_type": "code",
   "execution_count": 50,
   "id": "57c6ce5b",
   "metadata": {},
   "outputs": [],
   "source": [
    "predicted_w2v = w2v.predict(X_test_w2v)"
   ]
  },
  {
   "cell_type": "code",
   "execution_count": 51,
   "id": "bfbbd9c9",
   "metadata": {},
   "outputs": [
    {
     "name": "stdout",
     "output_type": "stream",
     "text": [
      "Accuracy: 0.24\n",
      "Jacard: 0.382\n",
      "F1: 0.432\n"
     ]
    }
   ],
   "source": [
    "evaluation('w2v', y_test, predicted_w2v, 'samples')"
   ]
  },
  {
   "cell_type": "markdown",
   "id": "d777281b",
   "metadata": {},
   "source": [
    "### Universal sentence encoder"
   ]
  },
  {
   "cell_type": "code",
   "execution_count": 52,
   "id": "6f8e3677",
   "metadata": {},
   "outputs": [],
   "source": [
    "# Load pre-trained universal sentence encoder model\n",
    "universal = hub.load(\"https://tfhub.dev/google/universal-sentence-encoder/4\")"
   ]
  },
  {
   "cell_type": "code",
   "execution_count": 53,
   "id": "ddabecab",
   "metadata": {},
   "outputs": [],
   "source": [
    "def transform_uni(X):\n",
    "    # Create a working copy of the dataset\n",
    "    X = X.copy()\n",
    "    \n",
    "    # Make sure indexes pair with number of rows\n",
    "    X = X.reset_index()  \n",
    "    X = drop(X, ['index'])\n",
    "    \n",
    "    # For each post, get the sentence vector \n",
    "    sentences = []\n",
    "    for index, row in X.iterrows():\n",
    "        sentences.append(row['str_tokens'])\n",
    "    \n",
    "    # Get universal sentence encoder vectors\n",
    "    message_embeddings = universal(sentences)\n",
    "    result = np.array(message_embeddings).tolist()        \n",
    "    \n",
    "    # Create new columns list\n",
    "    columns_list = []\n",
    "    for i in range(512):\n",
    "        columns_list.append('v_' + str(i))\n",
    "    \n",
    "    # Concat new columns with existing dataframe\n",
    "    X = pd.concat(\n",
    "        [\n",
    "            X,\n",
    "            pd.DataFrame(\n",
    "                result, \n",
    "                index=X.index, \n",
    "                columns=columns_list\n",
    "            )\n",
    "        ], axis=1\n",
    "    )\n",
    "    \n",
    "    # If nan value, fill with 0\n",
    "    X = X.fillna(0)\n",
    "    \n",
    "    # Filter\n",
    "    X = X[columns_list]\n",
    "    \n",
    "    return X"
   ]
  },
  {
   "cell_type": "code",
   "execution_count": 54,
   "id": "5d131d66",
   "metadata": {},
   "outputs": [],
   "source": [
    "X_train_uni = transform_uni(X_train)"
   ]
  },
  {
   "cell_type": "code",
   "execution_count": 55,
   "id": "1b48b9cf",
   "metadata": {},
   "outputs": [],
   "source": [
    "X_test_uni = transform_uni(X_test)"
   ]
  },
  {
   "cell_type": "code",
   "execution_count": 56,
   "id": "dc7f5d53",
   "metadata": {},
   "outputs": [
    {
     "name": "stdout",
     "output_type": "stream",
     "text": [
      "-------------------------------------------------------\n",
      "LogisticRegression\n",
      "-------------------------------------------------------\n",
      "Start:  Sun Feb 20 16:11:45 2022\n",
      "Fitting 5 folds for each of 1 candidates, totalling 5 fits\n"
     ]
    },
    {
     "name": "stderr",
     "output_type": "stream",
     "text": [
      "[Parallel(n_jobs=-1)]: Using backend LokyBackend with 16 concurrent workers.\n",
      "[Parallel(n_jobs=-1)]: Done   5 out of   5 | elapsed:  1.3min finished\n"
     ]
    },
    {
     "name": "stdout",
     "output_type": "stream",
     "text": [
      "End:  Sun Feb 20 16:13:18 2022\n",
      "\n",
      "-------------------------------------------------------\n",
      "SGDClassifier\n",
      "-------------------------------------------------------\n",
      "Start:  Sun Feb 20 16:13:18 2022\n",
      "Fitting 5 folds for each of 1 candidates, totalling 5 fits\n"
     ]
    },
    {
     "name": "stderr",
     "output_type": "stream",
     "text": [
      "[Parallel(n_jobs=-1)]: Using backend LokyBackend with 16 concurrent workers.\n",
      "[Parallel(n_jobs=-1)]: Done   5 out of   5 | elapsed:   43.6s finished\n"
     ]
    },
    {
     "name": "stdout",
     "output_type": "stream",
     "text": [
      "End:  Sun Feb 20 16:14:45 2022\n",
      "\n",
      "-------------------------------------------------------\n",
      "HistGradientBoostingClassifier\n",
      "-------------------------------------------------------\n",
      "Start:  Sun Feb 20 16:14:45 2022\n",
      "Fitting 5 folds for each of 1 candidates, totalling 5 fits\n"
     ]
    },
    {
     "name": "stderr",
     "output_type": "stream",
     "text": [
      "[Parallel(n_jobs=-1)]: Using backend LokyBackend with 16 concurrent workers.\n",
      "[Parallel(n_jobs=-1)]: Done   5 out of   5 | elapsed: 11.8min finished\n"
     ]
    },
    {
     "name": "stdout",
     "output_type": "stream",
     "text": [
      "End:  Sun Feb 20 16:32:54 2022\n",
      "\n",
      "-------------------------------------------------------\n",
      "RandomForestClassifier\n",
      "-------------------------------------------------------\n",
      "Start:  Sun Feb 20 16:32:54 2022\n",
      "Fitting 5 folds for each of 1 candidates, totalling 5 fits\n"
     ]
    },
    {
     "name": "stderr",
     "output_type": "stream",
     "text": [
      "[Parallel(n_jobs=-1)]: Using backend LokyBackend with 16 concurrent workers.\n",
      "[Parallel(n_jobs=-1)]: Done   5 out of   5 | elapsed:   46.8s finished\n"
     ]
    },
    {
     "name": "stdout",
     "output_type": "stream",
     "text": [
      "End:  Sun Feb 20 16:33:56 2022\n",
      "\n"
     ]
    },
    {
     "data": {
      "image/png": "[encoded data removed]",
      "text/plain": [
       "<Figure size 432x288 with 1 Axes>"
      ]
     },
     "metadata": {
      "needs_background": "light"
     },
     "output_type": "display_data"
    },
    {
     "data": {
      "image/png": "[encoded data removed]",
      "text/plain": [
       "<Figure size 432x288 with 1 Axes>"
      ]
     },
     "metadata": {
      "needs_background": "light"
     },
     "output_type": "display_data"
    }
   ],
   "source": [
    "grids = eval_model('uni', None, X_train_uni, y_train, False)"
   ]
  },
  {
   "cell_type": "code",
   "execution_count": 57,
   "id": "7205aae9",
   "metadata": {},
   "outputs": [],
   "source": [
    "uni = grids['SGDClassifier']"
   ]
  },
  {
   "cell_type": "code",
   "execution_count": 58,
   "id": "86244d87",
   "metadata": {},
   "outputs": [
    {
     "name": "stdout",
     "output_type": "stream",
     "text": [
      "Fitting 5 folds for each of 1 candidates, totalling 5 fits\n"
     ]
    },
    {
     "name": "stderr",
     "output_type": "stream",
     "text": [
      "[Parallel(n_jobs=-1)]: Using backend LokyBackend with 16 concurrent workers.\n",
      "[Parallel(n_jobs=-1)]: Done   5 out of   5 | elapsed:   43.9s finished\n"
     ]
    },
    {
     "data": {
      "text/plain": [
       "GridSearchCV(cv=5,\n",
       "             estimator=Pipeline(steps=[('scaler', StandardScaler()),\n",
       "                                       ('model',\n",
       "                                        ClassifierChain(base_estimator=SGDClassifier()))]),\n",
       "             n_jobs=-1, param_grid={}, return_train_score=True,\n",
       "             scoring='f1_samples', verbose=1)"
      ]
     },
     "execution_count": 58,
     "metadata": {},
     "output_type": "execute_result"
    }
   ],
   "source": [
    "uni.fit(X_train_uni, y_train)"
   ]
  },
  {
   "cell_type": "code",
   "execution_count": 59,
   "id": "cdce1339",
   "metadata": {},
   "outputs": [],
   "source": [
    "predicted_uni = uni.predict(X_test_uni)"
   ]
  },
  {
   "cell_type": "code",
   "execution_count": 60,
   "id": "197fbb5b",
   "metadata": {},
   "outputs": [
    {
     "name": "stdout",
     "output_type": "stream",
     "text": [
      "Accuracy: 0.335\n",
      "Jacard: 0.548\n",
      "F1: 0.619\n"
     ]
    }
   ],
   "source": [
    "evaluation('uni', y_test, predicted_uni, 'samples')"
   ]
  },
  {
   "cell_type": "markdown",
   "id": "e0524041",
   "metadata": {},
   "source": [
    "# Résultat final"
   ]
  },
  {
   "cell_type": "code",
   "execution_count": 61,
   "id": "4e83dfa7",
   "metadata": {},
   "outputs": [
    {
     "data": {
      "image/png": "[encoded data removed]",
      "text/plain": [
       "<Figure size 432x288 with 1 Axes>"
      ]
     },
     "metadata": {
      "needs_background": "light"
     },
     "output_type": "display_data"
    }
   ],
   "source": [
    "ind = np.arange(5) \n",
    "width = 0.25       \n",
    "plt.bar(ind, eval_acc.values(), width, label='accuracy')\n",
    "plt.bar(ind + width, eval_f1.values(), width, label='f1')\n",
    "plt.bar(ind + (width * 2), eval_jac.values(), width, label='jacard')\n",
    "\n",
    "plt.xlabel('Modèles')\n",
    "plt.ylabel('Scores')\n",
    "plt.title('Scores par modèle')\n",
    "\n",
    "plt.xticks(ind + width, ['lda', 'bow', 'tfidf', 'w2v', 'uni'])\n",
    "plt.legend(loc='best')\n",
    "\n",
    "plt.tight_layout()\n",
    "plt.gcf().savefig('test_result', dpi=100)\n",
    "plt.show()"
   ]
  },
  {
   "cell_type": "markdown",
   "id": "cdf5b0da",
   "metadata": {},
   "source": [
    "# Tuning du modèle choisi"
   ]
  },
  {
   "cell_type": "markdown",
   "id": "c28795de",
   "metadata": {},
   "source": [
    "##### Je choisis d'implémenter en production le modèle utilisant TF-IDF et SGDClassifier pour les raisons ci-dessous:\n",
    "\n",
    "- Test score plus bas que universal sentence encoder mais celui-ci ne peut être implémenter en production (tensorflow)\n",
    "- Fit time de SGDClassifier bien plus bas"
   ]
  },
  {
   "cell_type": "code",
   "execution_count": 33,
   "id": "0147576d",
   "metadata": {
    "scrolled": true
   },
   "outputs": [],
   "source": [
    "params = {'scaler': [StandardScaler(with_mean=False), QuantileTransformer()],\n",
    "          'tfidf__max_features': [128, 256, 512],\n",
    "          'clf__base_estimator__penalty': ['l2', 'l1', 'elasticnet'],\n",
    "          'clf__base_estimator__loss': ['hinge', 'log', 'modified_huber', 'squared_hinge', 'perceptron'],\n",
    "          'clf__base_estimator__alpha': [1e-5, 1e-4],\n",
    "          'clf__base_estimator__max_iter': [1000, 2000, 5000],\n",
    "          'clf__base_estimator__tol': [1e-4, 1e-3, 1e-2],\n",
    "          'clf__base_estimator__early_stopping': [True]}"
   ]
  },
  {
   "cell_type": "code",
   "execution_count": 34,
   "id": "bdc9ca0c",
   "metadata": {},
   "outputs": [],
   "source": [
    "pipe = Pipeline(steps=[\n",
    "    ('tfidf', TfidfVectorizer(\n",
    "        max_features=nb_features, ngram_range=(1, 2))),\n",
    "    ('scaler', StandardScaler(with_mean=False)),\n",
    "    ('clf', ClassifierChain(SGDClassifier()))\n",
    "])"
   ]
  },
  {
   "cell_type": "code",
   "execution_count": 35,
   "id": "c884ac8d",
   "metadata": {},
   "outputs": [],
   "source": [
    "grid = GridSearchCV(pipe,\n",
    "                    param_grid=params,\n",
    "                    scoring='f1_samples',\n",
    "                    verbose=1,\n",
    "                    cv=5,\n",
    "                    n_jobs=-1,\n",
    "                    refit=True)"
   ]
  },
  {
   "cell_type": "code",
   "execution_count": 36,
   "id": "337f366f",
   "metadata": {},
   "outputs": [
    {
     "name": "stdout",
     "output_type": "stream",
     "text": [
      "Fitting 5 folds for each of 1620 candidates, totalling 8100 fits\n"
     ]
    },
    {
     "name": "stderr",
     "output_type": "stream",
     "text": [
      "[Parallel(n_jobs=-1)]: Using backend LokyBackend with 16 concurrent workers.\n",
      "[Parallel(n_jobs=-1)]: Done  18 tasks      | elapsed:    7.5s\n",
      "[Parallel(n_jobs=-1)]: Done 168 tasks      | elapsed:   47.7s\n",
      "[Parallel(n_jobs=-1)]: Done 418 tasks      | elapsed:  1.9min\n",
      "[Parallel(n_jobs=-1)]: Done 768 tasks      | elapsed:  3.5min\n",
      "[Parallel(n_jobs=-1)]: Done 1218 tasks      | elapsed:  5.6min\n",
      "[Parallel(n_jobs=-1)]: Done 1768 tasks      | elapsed:  8.4min\n",
      "[Parallel(n_jobs=-1)]: Done 2418 tasks      | elapsed: 11.6min\n",
      "[Parallel(n_jobs=-1)]: Done 3168 tasks      | elapsed: 15.0min\n",
      "[Parallel(n_jobs=-1)]: Done 4018 tasks      | elapsed: 18.9min\n",
      "[Parallel(n_jobs=-1)]: Done 4968 tasks      | elapsed: 23.1min\n",
      "[Parallel(n_jobs=-1)]: Done 6018 tasks      | elapsed: 27.9min\n",
      "[Parallel(n_jobs=-1)]: Done 7168 tasks      | elapsed: 33.0min\n",
      "[Parallel(n_jobs=-1)]: Done 8100 out of 8100 | elapsed: 37.2min finished\n"
     ]
    },
    {
     "data": {
      "text/plain": [
       "GridSearchCV(cv=5,\n",
       "             estimator=Pipeline(steps=[('tfidf',\n",
       "                                        TfidfVectorizer(max_features=200,\n",
       "                                                        ngram_range=(1, 2))),\n",
       "                                       ('scaler',\n",
       "                                        StandardScaler(with_mean=False)),\n",
       "                                       ('clf',\n",
       "                                        ClassifierChain(base_estimator=SGDClassifier()))]),\n",
       "             n_jobs=-1,\n",
       "             param_grid={'clf__base_estimator__alpha': [1e-05, 0.0001],\n",
       "                         'clf__base_estimator__early_stopping': [True],\n",
       "                         'clf__base_estimator__loss': ['hinge', 'log',\n",
       "                                                       'modified_huber',\n",
       "                                                       'squared_hinge',\n",
       "                                                       'perceptron'],\n",
       "                         'clf__base_estimator__max_iter': [1000, 2000, 5000],\n",
       "                         'clf__base_estimator__penalty': ['l2', 'l1',\n",
       "                                                          'elasticnet'],\n",
       "                         'clf__base_estimator__tol': [0.0001, 0.001, 0.01],\n",
       "                         'scaler': [StandardScaler(with_mean=False),\n",
       "                                    QuantileTransformer()],\n",
       "                         'tfidf__max_features': [128, 256, 512]},\n",
       "             scoring='f1_samples', verbose=1)"
      ]
     },
     "execution_count": 36,
     "metadata": {},
     "output_type": "execute_result"
    }
   ],
   "source": [
    "grid.fit(X_train_tfidf, y_train)"
   ]
  },
  {
   "cell_type": "code",
   "execution_count": 37,
   "id": "8c6ab93f",
   "metadata": {},
   "outputs": [
    {
     "data": {
      "text/plain": [
       "{'clf__base_estimator__alpha': 0.0001,\n",
       " 'clf__base_estimator__early_stopping': True,\n",
       " 'clf__base_estimator__loss': 'log',\n",
       " 'clf__base_estimator__max_iter': 5000,\n",
       " 'clf__base_estimator__penalty': 'elasticnet',\n",
       " 'clf__base_estimator__tol': 0.01,\n",
       " 'scaler': QuantileTransformer(),\n",
       " 'tfidf__max_features': 512}"
      ]
     },
     "execution_count": 37,
     "metadata": {},
     "output_type": "execute_result"
    }
   ],
   "source": [
    "grid.best_params_"
   ]
  },
  {
   "cell_type": "code",
   "execution_count": 38,
   "id": "48148a17",
   "metadata": {},
   "outputs": [],
   "source": [
    "y_pred_tfidf = grid.predict(X_test_tfidf)"
   ]
  },
  {
   "cell_type": "code",
   "execution_count": 41,
   "id": "90e9036e",
   "metadata": {
    "scrolled": true
   },
   "outputs": [
    {
     "name": "stdout",
     "output_type": "stream",
     "text": [
      "Accuracy: 0.377\n",
      "Jacard: 0.55\n",
      "F1: 0.608\n"
     ]
    }
   ],
   "source": [
    "evaluation('tfidf', y_test, y_pred_tfidf, 'samples')"
   ]
  },
  {
   "cell_type": "code",
   "execution_count": 43,
   "id": "d09dc5ff",
   "metadata": {},
   "outputs": [
    {
     "data": {
      "image/png": "[encoded data removed]",
      "text/plain": [
       "<Figure size 432x288 with 1 Axes>"
      ]
     },
     "metadata": {
      "needs_background": "light"
     },
     "output_type": "display_data"
    }
   ],
   "source": [
    "accuracy = np.array([0.271, 0.377])\n",
    "jacard = np.array([0.439, 0.55])\n",
    "f1 = np.array([0.499, 0.608])\n",
    "\n",
    "ind = np.arange(2) \n",
    "width = 0.25       \n",
    "plt.bar(ind, accuracy, width, label='accuracy')\n",
    "plt.bar(ind + width, f1, width, label='f1')\n",
    "plt.bar(ind + (width * 2), jacard, width, label='jacard')\n",
    "\n",
    "plt.xlabel('Modèles')\n",
    "plt.ylabel('Scores')\n",
    "plt.title('Scores SGDClassifier')\n",
    "\n",
    "plt.xticks(ind + width, ['before', 'after'])\n",
    "plt.legend(loc='best')\n",
    "\n",
    "plt.tight_layout()\n",
    "plt.gcf().savefig('tuning_result', dpi=100)\n",
    "plt.show()"
   ]
  },
  {
   "cell_type": "markdown",
   "id": "76514de9",
   "metadata": {},
   "source": [
    "# Sauvegardes"
   ]
  },
  {
   "cell_type": "code",
   "execution_count": 44,
   "id": "e0946dd5",
   "metadata": {},
   "outputs": [
    {
     "data": {
      "text/plain": [
       "['mlb.jl']"
      ]
     },
     "execution_count": 44,
     "metadata": {},
     "output_type": "execute_result"
    }
   ],
   "source": [
    "joblib.dump(mlb, 'mlb.jl')"
   ]
  },
  {
   "cell_type": "code",
   "execution_count": 47,
   "id": "e4c18cff",
   "metadata": {},
   "outputs": [
    {
     "name": "stdout",
     "output_type": "stream",
     "text": [
      "['tfidf.jl']\n"
     ]
    }
   ],
   "source": [
    "joblib.dump(tfidf, 'tfidf.jl')"
   ]
  },
  {
   "cell_type": "code",
   "execution_count": null,
   "id": "c83b706d",
   "metadata": {},
   "outputs": [],
   "source": []
  }
 ],
 "metadata": {
  "kernelspec": {
   "display_name": "p5",
   "language": "python",
   "name": "p5"
  },
  "language_info": {
   "codemirror_mode": {
    "name": "ipython",
    "version": 3
   },
   "file_extension": ".py",
   "mimetype": "text/x-python",
   "name": "python",
   "nbconvert_exporter": "python",
   "pygments_lexer": "ipython3",
   "version": "3.8.12"
  },
  "toc": {
   "base_numbering": 1,
   "nav_menu": {},
   "number_sections": true,
   "sideBar": true,
   "skip_h1_title": false,
   "title_cell": "Table of Contents",
   "title_sidebar": "Contents",
   "toc_cell": false,
   "toc_position": {
    "height": "calc(100% - 180px)",
    "left": "10px",
    "top": "150px",
    "width": "307.2px"
   },
   "toc_section_display": true,
   "toc_window_display": true
  }
 },
 "nbformat": 4,
 "nbformat_minor": 5
}
