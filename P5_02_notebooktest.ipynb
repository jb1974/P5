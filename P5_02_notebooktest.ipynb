{
 "cells": [
  {
   "cell_type": "code",
   "execution_count": 1,
   "id": "951f7cee",
   "metadata": {},
   "outputs": [
    {
     "name": "stderr",
     "output_type": "stream",
     "text": [
      "C:\\Users\\james\\anaconda3\\lib\\site-packages\\gensim\\similarities\\__init__.py:15: UserWarning: The gensim.similarities.levenshtein submodule is disabled, because the optional Levenshtein package <https://pypi.org/project/python-Levenshtein/> is unavailable. Install Levenhstein (e.g. `pip install python-Levenshtein`) to suppress this warning.\n",
      "  warnings.warn(msg)\n"
     ]
    }
   ],
   "source": [
    "import re\n",
    "import math\n",
    "import time\n",
    "import warnings\n",
    "import numpy as np\n",
    "import pandas as pd\n",
    "\n",
    "# Sklearn\n",
    "from sklearn.model_selection import train_test_split\n",
    "from sklearn.preprocessing import MultiLabelBinarizer\n",
    "from sklearn.model_selection import GridSearchCV\n",
    "from sklearn.pipeline import Pipeline\n",
    "\n",
    "## for preprocessing\n",
    "from sklearn.preprocessing import StandardScaler\n",
    "\n",
    "## for classification\n",
    "from sklearn.multioutput import ClassifierChain\n",
    "from sklearn.ensemble import RandomForestClassifier\n",
    "\n",
    "## for metrics\n",
    "from sklearn.metrics import accuracy_score, jaccard_score, f1_score\n",
    "\n",
    "## for bag-of-words / Tf-Idf\n",
    "from sklearn.feature_extraction.text import CountVectorizer\n",
    "from sklearn.feature_extraction.text import TfidfVectorizer\n",
    "\n",
    "## for word embedding\n",
    "import gensim\n",
    "import gensim.downloader as gensim_api\n",
    "\n",
    "## for universal sentence encoder\n",
    "import tensorflow_hub as hub\n",
    "\n",
    "## Plotting tools\n",
    "import matplotlib.pyplot as plt\n",
    "from matplotlib.legend_handler import HandlerLine2D\n",
    "import seaborn as sns\n",
    "\n",
    "## dump\n",
    "import joblib"
   ]
  },
  {
   "cell_type": "code",
   "execution_count": 2,
   "id": "f4adee7e",
   "metadata": {},
   "outputs": [],
   "source": [
    "# Allow to display all dataframes columns\n",
    "pd.set_option(\"display.max_columns\", None)\n",
    "\n",
    "# Inactivate warnings\n",
    "warnings.filterwarnings('ignore')"
   ]
  },
  {
   "cell_type": "markdown",
   "id": "92639b81",
   "metadata": {},
   "source": [
    "# Chargement du jeu de données"
   ]
  },
  {
   "cell_type": "code",
   "execution_count": 3,
   "id": "fdbcd988",
   "metadata": {},
   "outputs": [],
   "source": [
    "data = pd.read_pickle('df_save.pkl')  "
   ]
  },
  {
   "cell_type": "code",
   "execution_count": 4,
   "id": "fbea79fd",
   "metadata": {
    "scrolled": true
   },
   "outputs": [
    {
     "data": {
      "text/plain": [
       "(10243, 36)"
      ]
     },
     "execution_count": 4,
     "metadata": {},
     "output_type": "execute_result"
    }
   ],
   "source": [
    "data.shape"
   ]
  },
  {
   "cell_type": "code",
   "execution_count": 5,
   "id": "18c1112e",
   "metadata": {
    "scrolled": true
   },
   "outputs": [
    {
     "data": {
      "text/plain": [
       "Index(['text', 'list_tokens', 'str_tokens', 'Dominant_Topic',\n",
       "       'Perc_Contribution', 'topic_0', 'topic_1', 'topic_2', 'topic_3',\n",
       "       'topic_4', 'topic_5', 'topic_6', 'topic_7', 'topic_8', 'topic_9',\n",
       "       'topic_10', 'topic_11', 'topic_12', 'topic_13', 'topic_14', 'topic_15',\n",
       "       'topic_16', 'topic_17', 'topic_18', 'topic_19', 'topic_20', 'topic_21',\n",
       "       'topic_22', 'topic_23', 'topic_24', 'topic_25', 'topic_26', 'topic_27',\n",
       "       'topic_28', 'topic_29', 'Tags_list'],\n",
       "      dtype='object')"
      ]
     },
     "execution_count": 5,
     "metadata": {},
     "output_type": "execute_result"
    }
   ],
   "source": [
    "data.columns"
   ]
  },
  {
   "cell_type": "markdown",
   "id": "800df0f9",
   "metadata": {},
   "source": [
    "# Split"
   ]
  },
  {
   "cell_type": "code",
   "execution_count": 6,
   "id": "8bdb3f4c",
   "metadata": {},
   "outputs": [
    {
     "name": "stdout",
     "output_type": "stream",
     "text": [
      "Split Dataset\n",
      "---------------------------------------------------------\n",
      "X_train: (8194, 36)\n",
      "X_test: (2049, 36)\n"
     ]
    }
   ],
   "source": [
    "print('Split Dataset')\n",
    "print('---------------------------------------------------------')\n",
    "X_train, X_test = train_test_split(data, random_state=0, test_size=0.2)\n",
    "print('X_train: ' + str(X_train.shape))\n",
    "print('X_test: ' + str(X_test.shape))"
   ]
  },
  {
   "cell_type": "code",
   "execution_count": 7,
   "id": "34533386",
   "metadata": {},
   "outputs": [
    {
     "name": "stdout",
     "output_type": "stream",
     "text": [
      "y_train: (8194, 1)\n",
      "y_test: (2049, 1)\n"
     ]
    }
   ],
   "source": [
    "y_train = X_train[['Tags_list']]\n",
    "y_test = X_test[['Tags_list']]\n",
    "print('y_train: ' + str(y_train.shape))\n",
    "print('y_test: ' + str(y_test.shape))"
   ]
  },
  {
   "cell_type": "markdown",
   "id": "81629a99",
   "metadata": {},
   "source": [
    "# Target encoder"
   ]
  },
  {
   "cell_type": "code",
   "execution_count": 8,
   "id": "dc75f2f9",
   "metadata": {},
   "outputs": [],
   "source": [
    "mlb = MultiLabelBinarizer()"
   ]
  },
  {
   "cell_type": "code",
   "execution_count": 9,
   "id": "2cc5c4cb",
   "metadata": {},
   "outputs": [],
   "source": [
    "y_train = mlb.fit_transform(y_train.Tags_list)"
   ]
  },
  {
   "cell_type": "code",
   "execution_count": 10,
   "id": "eea5a06b",
   "metadata": {},
   "outputs": [],
   "source": [
    "y_test = mlb.transform(y_test.Tags_list)"
   ]
  },
  {
   "cell_type": "markdown",
   "id": "5cb965aa",
   "metadata": {},
   "source": [
    "# Extraction de tags"
   ]
  },
  {
   "cell_type": "code",
   "execution_count": 11,
   "id": "cbdf9dec",
   "metadata": {},
   "outputs": [],
   "source": [
    "def check_overfitting(model, X_train, limit):\n",
    "    grid = GridSearchCV(model,\n",
    "                        param_grid={},\n",
    "                        scoring='f1_samples',\n",
    "                        verbose=1,\n",
    "                        cv=5,\n",
    "                        n_jobs=-1,\n",
    "                        return_train_score=True,\n",
    "                        refit=True)\n",
    "    grid.fit(X_train, y_train)\n",
    "    train_score = grid.cv_results_['mean_train_score'][0]\n",
    "    test_score = grid.cv_results_['mean_test_score'][0]\n",
    "    \n",
    "    print('train_score:', train_score)\n",
    "    print('test_score:', test_score)\n",
    "    print('')\n",
    "    \n",
    "    if (train_score - test_score) <= limit:\n",
    "        print('model is not ovefitting')\n",
    "    else:\n",
    "        print('model is ovefitting')\n",
    "        raise"
   ]
  },
  {
   "cell_type": "code",
   "execution_count": 12,
   "id": "48cc72ef",
   "metadata": {},
   "outputs": [],
   "source": [
    "eval_acc = {}\n",
    "eval_jac = {}\n",
    "eval_f1 = {}\n",
    "\n",
    "def evaluation(case, y_true, y_pred, mlb):\n",
    "    global eval_acc, eval_f1\n",
    "    \n",
    "    # Accuracy\n",
    "    accuracy = accuracy_score(y_true, y_pred)\n",
    "    print(\"Accuracy:\",  round(accuracy,2))\n",
    "    \n",
    "    # jacard\n",
    "    jacard = jaccard_score(y_true, y_pred, average='samples')\n",
    "    print('Jacard:', round(jacard,2)) \n",
    "    \n",
    "    # f1\n",
    "    f1 = f1_score(y_true=y_true, y_pred=y_pred, average='samples')\n",
    "    print('F1:', round(f1,2)) \n",
    "    \n",
    "    eval_acc[case] = accuracy    \n",
    "    eval_jac[case] = jacard\n",
    "    eval_f1[case] = f1"
   ]
  },
  {
   "cell_type": "markdown",
   "id": "632adc48",
   "metadata": {},
   "source": [
    "## Approche semi-supervisée"
   ]
  },
  {
   "cell_type": "code",
   "execution_count": 13,
   "id": "eaf5d281",
   "metadata": {
    "scrolled": true
   },
   "outputs": [
    {
     "name": "stdout",
     "output_type": "stream",
     "text": [
      "X_train_semi: (8194, 32)\n",
      "X_test_semi: (2049, 32)\n"
     ]
    }
   ],
   "source": [
    "X_train_semi = X_train.loc[:, (X_train.columns != 'text') &\n",
    "                              (X_train.columns != 'list_tokens') &\n",
    "                              (X_train.columns != 'str_tokens') &\n",
    "                              (X_train.columns != 'Tags_list')\n",
    "                           ]\n",
    "X_test_semi = X_test.loc[:, (X_test.columns != 'text') &\n",
    "                            (X_test.columns != 'list_tokens') &\n",
    "                            (X_test.columns != 'str_tokens') &\n",
    "                            (X_test.columns != 'Tags_list')\n",
    "                         ]\n",
    "print('X_train_semi: ' + str(X_train_semi.shape))\n",
    "print('X_test_semi: ' + str(X_test_semi.shape))"
   ]
  },
  {
   "cell_type": "code",
   "execution_count": 14,
   "id": "7775f7ee",
   "metadata": {},
   "outputs": [],
   "source": [
    "lda = Pipeline(steps=[\n",
    "    ('scaler', StandardScaler()),\n",
    "    ('model', ClassifierChain(RandomForestClassifier(n_estimators=100, max_features=32,\n",
    "                                                     max_depth=10, min_samples_leaf=5,\n",
    "                                                     min_samples_split=0.1, class_weight='balanced')))\n",
    "])"
   ]
  },
  {
   "cell_type": "code",
   "execution_count": 15,
   "id": "0c62b9d5",
   "metadata": {},
   "outputs": [
    {
     "name": "stdout",
     "output_type": "stream",
     "text": [
      "Fitting 5 folds for each of 1 candidates, totalling 5 fits\n",
      "train_score: 0.1965442832073501\n",
      "test_score: 0.17447752562607124\n",
      "\n",
      "model is not ovefitting\n"
     ]
    }
   ],
   "source": [
    "check_overfitting(lda, X_train_semi, 0.1)"
   ]
  },
  {
   "cell_type": "code",
   "execution_count": 16,
   "id": "a523a9ad",
   "metadata": {},
   "outputs": [
    {
     "data": {
      "text/plain": [
       "Pipeline(steps=[('scaler', StandardScaler()),\n",
       "                ('model',\n",
       "                 ClassifierChain(base_estimator=RandomForestClassifier(class_weight='balanced',\n",
       "                                                                       max_depth=10,\n",
       "                                                                       max_features=32,\n",
       "                                                                       min_samples_leaf=5,\n",
       "                                                                       min_samples_split=0.1)))])"
      ]
     },
     "execution_count": 16,
     "metadata": {},
     "output_type": "execute_result"
    }
   ],
   "source": [
    "lda.fit(X_train_semi, y_train)"
   ]
  },
  {
   "cell_type": "code",
   "execution_count": 17,
   "id": "e8841387",
   "metadata": {},
   "outputs": [],
   "source": [
    "predicted_semi = lda.predict(X_test_semi)"
   ]
  },
  {
   "cell_type": "code",
   "execution_count": 18,
   "id": "c8a0dc77",
   "metadata": {},
   "outputs": [
    {
     "name": "stdout",
     "output_type": "stream",
     "text": [
      "Accuracy: 0.01\n",
      "Jacard: 0.12\n",
      "F1: 0.18\n"
     ]
    }
   ],
   "source": [
    "evaluation('lda', y_test, predicted_semi, mlb)"
   ]
  },
  {
   "cell_type": "markdown",
   "id": "29fa858e",
   "metadata": {},
   "source": [
    "# Résultat final"
   ]
  },
  {
   "cell_type": "code",
   "execution_count": 19,
   "id": "492ab4f7",
   "metadata": {
    "scrolled": true
   },
   "outputs": [
    {
     "data": {
      "image/png": "[encoded data removed]",
      "text/plain": [
       "<Figure size 432x288 with 1 Axes>"
      ]
     },
     "metadata": {
      "needs_background": "light"
     },
     "output_type": "display_data"
    }
   ],
   "source": [
    "ind = np.arange(1) \n",
    "width = 0.25       \n",
    "plt.bar(ind, eval_acc.values(), width, label='accuracy')\n",
    "plt.bar(ind + width, eval_f1.values(), width, label='f1')\n",
    "plt.bar(ind + (width * 2), eval_jac.values(), width, label='jacard')\n",
    "\n",
    "plt.xlabel('Modèles')\n",
    "plt.ylabel('Scores')\n",
    "plt.title('Scores par modèle')\n",
    "\n",
    "plt.xticks(ind + width, ['lda'])\n",
    "plt.legend(loc='best')\n",
    "\n",
    "plt.tight_layout()\n",
    "plt.gcf().savefig('test_result', dpi=100)\n",
    "plt.show()"
   ]
  },
  {
   "cell_type": "markdown",
   "id": "655972e0",
   "metadata": {},
   "source": [
    "# Calibration du modèle choisi"
   ]
  },
  {
   "cell_type": "code",
   "execution_count": 20,
   "id": "fe3b79cd",
   "metadata": {},
   "outputs": [],
   "source": [
    "def calibration(model, X, y_true):\n",
    "    # Probability calibration\n",
    "    f1_tab = []\n",
    "    accuracy_tab = []\n",
    "    jacard_tab = []\n",
    "    x = [0.1, 0.2, 0.3, 0.4, 0.5, 0.6, 0.7, 0.8, 0.9, 1]\n",
    "\n",
    "    for i in x:\n",
    "        y_pred = (model.predict_proba(X) >= i).astype(bool) \n",
    "        f1 = f1_score(y_true=y_true, y_pred=y_pred, average='samples')\n",
    "        f1_tab.append(f1)\n",
    "        accuracy = accuracy_score(y_true, y_pred)\n",
    "        accuracy_tab.append(accuracy)\n",
    "        jacard = jaccard_score(y_true, y_pred, average='samples')\n",
    "        jacard_tab.append(jacard)\n",
    "\n",
    "    line1, = plt.plot(x, f1_tab, 'b', label='f1')\n",
    "    line2, = plt.plot(x, accuracy_tab, 'r', label='accuracy')\n",
    "    line3, = plt.plot(x, jacard_tab, 'g', label='jacard')\n",
    "    plt.legend(handler_map={line1: HandlerLine2D(numpoints=2)})\n",
    "    plt.ylabel('score')\n",
    "    plt.xlabel('probabilté')\n",
    "    plt.show()"
   ]
  },
  {
   "cell_type": "code",
   "execution_count": 22,
   "id": "8fe05cd4",
   "metadata": {},
   "outputs": [
    {
     "data": {
      "image/png": "[encoded data removed]",
      "text/plain": [
       "<Figure size 432x288 with 1 Axes>"
      ]
     },
     "metadata": {
      "needs_background": "light"
     },
     "output_type": "display_data"
    }
   ],
   "source": [
    "calibration(lda, X_test_semi, y_test)"
   ]
  },
  {
   "cell_type": "code",
   "execution_count": 26,
   "id": "1b65a78c",
   "metadata": {},
   "outputs": [
    {
     "name": "stdout",
     "output_type": "stream",
     "text": [
      "('android', 'c#', 'database', 'linq', 'objective-c', 'sql', 'sql-server', 'wpf') ('android',)\n"
     ]
    }
   ],
   "source": [
    "y_pred_lda = (lda.predict_proba(X_test_semi) >= 0.85).astype(bool) \n",
    "y_pred_lda_rev = mlb.inverse_transform(y_pred_lda)\n",
    "print(y_pred_lda_rev[0], mlb.inverse_transform(y_test)[0])"
   ]
  },
  {
   "cell_type": "code",
   "execution_count": null,
   "id": "f1e257f8",
   "metadata": {},
   "outputs": [],
   "source": []
  }
 ],
 "metadata": {
  "kernelspec": {
   "display_name": "Python 3 (ipykernel)",
   "language": "python",
   "name": "python3"
  },
  "language_info": {
   "codemirror_mode": {
    "name": "ipython",
    "version": 3
   },
   "file_extension": ".py",
   "mimetype": "text/x-python",
   "name": "python",
   "nbconvert_exporter": "python",
   "pygments_lexer": "ipython3",
   "version": "3.8.12"
  },
  "toc": {
   "base_numbering": 1,
   "nav_menu": {},
   "number_sections": true,
   "sideBar": true,
   "skip_h1_title": false,
   "title_cell": "Table of Contents",
   "title_sidebar": "Contents",
   "toc_cell": false,
   "toc_position": {
    "height": "calc(100% - 180px)",
    "left": "10px",
    "top": "150px",
    "width": "247px"
   },
   "toc_section_display": true,
   "toc_window_display": true
  }
 },
 "nbformat": 4,
 "nbformat_minor": 5
}
