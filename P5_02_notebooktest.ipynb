{
 "cells": [
  {
   "cell_type": "markdown",
   "id": "13660a6d",
   "metadata": {},
   "source": [
    "# Installation et import des librairies"
   ]
  },
  {
   "cell_type": "markdown",
   "id": "9d5c426d",
   "metadata": {},
   "source": [
    "- conda install -c conda-forge numpy\n",
    "- conda install -c conda-forge pandas\n",
    "- conda install -c anaconda scikit-learn\n",
    "- conda install -c conda-forge scikit-learn-intelex\n",
    "- conda install -c anaconda gensim  # python=3.8\n",
    "- conda install -c conda-forge tensorflow-hub\n",
    "- pip install --upgrade tensorflow-estimator==2.3.0\n",
    "- conda install -c conda-forge matplotlib\n",
    "- conda install -c anaconda seaborn"
   ]
  },
  {
   "cell_type": "code",
   "execution_count": 1,
   "id": "bfe24d8f",
   "metadata": {},
   "outputs": [
    {
     "name": "stderr",
     "output_type": "stream",
     "text": [
      "Intel(R) Extension for Scikit-learn* enabled (https://github.com/intel/scikit-learn-intelex)\n"
     ]
    }
   ],
   "source": [
    "from sklearnex import patch_sklearn\n",
    "patch_sklearn()"
   ]
  },
  {
   "cell_type": "code",
   "execution_count": 2,
   "id": "f901e886",
   "metadata": {},
   "outputs": [
    {
     "name": "stderr",
     "output_type": "stream",
     "text": [
      "C:\\Users\\james\\anaconda3\\envs\\p5\\lib\\site-packages\\gensim\\similarities\\__init__.py:15: UserWarning: The gensim.similarities.levenshtein submodule is disabled, because the optional Levenshtein package <https://pypi.org/project/python-Levenshtein/> is unavailable. Install Levenhstein (e.g. `pip install python-Levenshtein`) to suppress this warning.\n",
      "  warnings.warn(msg)\n"
     ]
    }
   ],
   "source": [
    "import re\n",
    "import math\n",
    "import time\n",
    "import warnings\n",
    "import numpy as np\n",
    "import pandas as pd\n",
    "\n",
    "# Sklearn\n",
    "from sklearn.model_selection import train_test_split\n",
    "from sklearn.preprocessing import MultiLabelBinarizer\n",
    "from sklearn.model_selection import GridSearchCV\n",
    "from sklearn.pipeline import Pipeline\n",
    "\n",
    "## for preprocessing\n",
    "from sklearn.preprocessing import StandardScaler\n",
    "\n",
    "## for classification\n",
    "from sklearn.multioutput import ClassifierChain\n",
    "from sklearn.linear_model import SGDClassifier\n",
    "\n",
    "## for metrics\n",
    "from sklearn.metrics import accuracy_score, jaccard_score, f1_score\n",
    "\n",
    "## for bag-of-words / Tf-Idf\n",
    "from sklearn.feature_extraction.text import CountVectorizer\n",
    "from sklearn.feature_extraction.text import TfidfVectorizer\n",
    "\n",
    "## for word embedding\n",
    "import gensim\n",
    "import gensim.downloader as gensim_api\n",
    "\n",
    "## for universal sentence encoder\n",
    "import tensorflow_hub as hub\n",
    "\n",
    "## Plotting tools\n",
    "import matplotlib.pyplot as plt\n",
    "from matplotlib.legend_handler import HandlerLine2D\n",
    "import seaborn as sns\n",
    "\n",
    "## dump\n",
    "import joblib"
   ]
  },
  {
   "cell_type": "code",
   "execution_count": 3,
   "id": "754a761f",
   "metadata": {},
   "outputs": [],
   "source": [
    "# Allow to display all dataframes columns\n",
    "pd.set_option(\"display.max_columns\", None)\n",
    "\n",
    "# Inactivate warnings\n",
    "warnings.filterwarnings('ignore')"
   ]
  },
  {
   "cell_type": "markdown",
   "id": "83f22cc3",
   "metadata": {},
   "source": [
    "# Chargement du jeu de données"
   ]
  },
  {
   "cell_type": "code",
   "execution_count": 4,
   "id": "d13f4a52",
   "metadata": {},
   "outputs": [],
   "source": [
    "data = pd.read_pickle('df_save.pkl')  "
   ]
  },
  {
   "cell_type": "code",
   "execution_count": 5,
   "id": "dbb9e9ff",
   "metadata": {},
   "outputs": [
    {
     "data": {
      "text/plain": [
       "(10243, 36)"
      ]
     },
     "execution_count": 5,
     "metadata": {},
     "output_type": "execute_result"
    }
   ],
   "source": [
    "data.shape"
   ]
  },
  {
   "cell_type": "code",
   "execution_count": 6,
   "id": "c9a2de9c",
   "metadata": {},
   "outputs": [
    {
     "data": {
      "text/plain": [
       "Index(['text', 'list_tokens', 'str_tokens', 'Dominant_Topic',\n",
       "       'Perc_Contribution', 'topic_0', 'topic_1', 'topic_2', 'topic_3',\n",
       "       'topic_4', 'topic_5', 'topic_6', 'topic_7', 'topic_8', 'topic_9',\n",
       "       'topic_10', 'topic_11', 'topic_12', 'topic_13', 'topic_14', 'topic_15',\n",
       "       'topic_16', 'topic_17', 'topic_18', 'topic_19', 'topic_20', 'topic_21',\n",
       "       'topic_22', 'topic_23', 'topic_24', 'topic_25', 'topic_26', 'topic_27',\n",
       "       'topic_28', 'topic_29', 'Tags_list'],\n",
       "      dtype='object')"
      ]
     },
     "execution_count": 6,
     "metadata": {},
     "output_type": "execute_result"
    }
   ],
   "source": [
    "data.columns"
   ]
  },
  {
   "cell_type": "markdown",
   "id": "9d99f783",
   "metadata": {},
   "source": [
    "# Split"
   ]
  },
  {
   "cell_type": "code",
   "execution_count": 7,
   "id": "90f0111b",
   "metadata": {},
   "outputs": [
    {
     "name": "stdout",
     "output_type": "stream",
     "text": [
      "Split Dataset\n",
      "---------------------------------------------------------\n",
      "X_train: (8194, 36)\n",
      "X_test: (2049, 36)\n"
     ]
    }
   ],
   "source": [
    "print('Split Dataset')\n",
    "print('---------------------------------------------------------')\n",
    "X_train, X_test = train_test_split(data, random_state=0, test_size=0.2)\n",
    "print('X_train: ' + str(X_train.shape))\n",
    "print('X_test: ' + str(X_test.shape))"
   ]
  },
  {
   "cell_type": "code",
   "execution_count": 8,
   "id": "a732a645",
   "metadata": {},
   "outputs": [
    {
     "name": "stdout",
     "output_type": "stream",
     "text": [
      "y_train: (8194, 1)\n",
      "y_test: (2049, 1)\n"
     ]
    }
   ],
   "source": [
    "y_train = X_train[['Tags_list']]\n",
    "y_test = X_test[['Tags_list']]\n",
    "print('y_train: ' + str(y_train.shape))\n",
    "print('y_test: ' + str(y_test.shape))"
   ]
  },
  {
   "cell_type": "markdown",
   "id": "04da1245",
   "metadata": {},
   "source": [
    "# Target encoder"
   ]
  },
  {
   "cell_type": "code",
   "execution_count": 9,
   "id": "4337f4e2",
   "metadata": {},
   "outputs": [],
   "source": [
    "mlb = MultiLabelBinarizer()"
   ]
  },
  {
   "cell_type": "code",
   "execution_count": 10,
   "id": "720979fe",
   "metadata": {},
   "outputs": [],
   "source": [
    "y_train = mlb.fit_transform(y_train.Tags_list)"
   ]
  },
  {
   "cell_type": "code",
   "execution_count": 11,
   "id": "b61c0867",
   "metadata": {},
   "outputs": [],
   "source": [
    "y_test = mlb.transform(y_test.Tags_list)"
   ]
  },
  {
   "cell_type": "markdown",
   "id": "afdc1de9",
   "metadata": {},
   "source": [
    "# Extraction de tags"
   ]
  },
  {
   "cell_type": "code",
   "execution_count": 12,
   "id": "630c6349",
   "metadata": {},
   "outputs": [],
   "source": [
    "def check_overfitting(model, X_train, limit):\n",
    "    grid = GridSearchCV(model,\n",
    "                        param_grid={},\n",
    "                        scoring='f1_samples',\n",
    "                        verbose=1,\n",
    "                        cv=5,\n",
    "                        n_jobs=-1,\n",
    "                        return_train_score=True,\n",
    "                        refit=True)\n",
    "    \n",
    "    grid.fit(X_train, y_train)\n",
    "    train_score = grid.cv_results_['mean_train_score'][0]\n",
    "    test_score = grid.cv_results_['mean_test_score'][0]\n",
    "\n",
    "    print('train_score:', train_score)\n",
    "    print('test_score:', test_score)\n",
    "    print('')\n",
    "\n",
    "    if (train_score - test_score) <= limit:\n",
    "        print('model is not ovefitting')\n",
    "    else:\n",
    "        print('model is ovefitting')\n",
    "        raise"
   ]
  },
  {
   "cell_type": "code",
   "execution_count": 13,
   "id": "d00f62ba",
   "metadata": {},
   "outputs": [],
   "source": [
    "eval_acc = {}\n",
    "eval_jac = {}\n",
    "eval_f1 = {}\n",
    "\n",
    "def evaluation(case, y_true, y_pred, average):\n",
    "    global eval_acc, eval_jac, eval_f1\n",
    "    \n",
    "    # Accuracy\n",
    "    accuracy = accuracy_score(y_true, y_pred)\n",
    "    print(\"Accuracy:\",  round(accuracy,3))\n",
    "    \n",
    "    # jacard\n",
    "    jacard = jaccard_score(y_true, y_pred, average=average)\n",
    "    print('Jacard:', round(jacard,3)) \n",
    "    \n",
    "    # f1\n",
    "    f1 = f1_score(y_true=y_true, y_pred=y_pred, average=average)\n",
    "    print('F1:', round(f1,3)) \n",
    "    \n",
    "    eval_acc[case] = accuracy    \n",
    "    eval_jac[case] = jacard\n",
    "    eval_f1[case] = f1"
   ]
  },
  {
   "cell_type": "markdown",
   "id": "9392b660",
   "metadata": {},
   "source": [
    "## Approche semi-supervisée"
   ]
  },
  {
   "cell_type": "code",
   "execution_count": 14,
   "id": "9e943968",
   "metadata": {},
   "outputs": [
    {
     "name": "stdout",
     "output_type": "stream",
     "text": [
      "X_train_semi: (8194, 32)\n",
      "X_test_semi: (2049, 32)\n"
     ]
    }
   ],
   "source": [
    "X_train_semi = X_train.loc[:, (X_train.columns != 'text') &\n",
    "                              (X_train.columns != 'list_tokens') &\n",
    "                              (X_train.columns != 'str_tokens') &\n",
    "                              (X_train.columns != 'Tags_list')\n",
    "                           ]\n",
    "X_test_semi = X_test.loc[:, (X_test.columns != 'text') &\n",
    "                            (X_test.columns != 'list_tokens') &\n",
    "                            (X_test.columns != 'str_tokens') &\n",
    "                            (X_test.columns != 'Tags_list')\n",
    "                         ]\n",
    "print('X_train_semi: ' + str(X_train_semi.shape))\n",
    "print('X_test_semi: ' + str(X_test_semi.shape))"
   ]
  },
  {
   "cell_type": "code",
   "execution_count": 15,
   "id": "249e256f",
   "metadata": {},
   "outputs": [],
   "source": [
    "lda = Pipeline(steps=[\n",
    "    ('scaler', StandardScaler()),\n",
    "    ('model', ClassifierChain(SGDClassifier(\n",
    "        loss='squared_hinge', alpha=1e-2, max_iter=10, early_stopping=True)))\n",
    "])"
   ]
  },
  {
   "cell_type": "code",
   "execution_count": 16,
   "id": "9bc9b25e",
   "metadata": {},
   "outputs": [
    {
     "name": "stdout",
     "output_type": "stream",
     "text": [
      "Fitting 5 folds for each of 1 candidates, totalling 5 fits\n"
     ]
    },
    {
     "name": "stderr",
     "output_type": "stream",
     "text": [
      "[Parallel(n_jobs=-1)]: Using backend LokyBackend with 16 concurrent workers.\n",
      "[Parallel(n_jobs=-1)]: Done   5 out of   5 | elapsed:    2.5s finished\n"
     ]
    },
    {
     "name": "stdout",
     "output_type": "stream",
     "text": [
      "train_score: 0.17185045158515894\n",
      "test_score: 0.16441381328565735\n",
      "\n",
      "model is not ovefitting\n"
     ]
    }
   ],
   "source": [
    "check_overfitting(lda, X_train_semi, 0.1)"
   ]
  },
  {
   "cell_type": "code",
   "execution_count": 17,
   "id": "d8f92f26",
   "metadata": {},
   "outputs": [
    {
     "data": {
      "text/plain": [
       "Pipeline(steps=[('scaler', StandardScaler()),\n",
       "                ('model',\n",
       "                 ClassifierChain(base_estimator=SGDClassifier(alpha=0.01,\n",
       "                                                              early_stopping=True,\n",
       "                                                              loss='squared_hinge',\n",
       "                                                              max_iter=10)))])"
      ]
     },
     "execution_count": 17,
     "metadata": {},
     "output_type": "execute_result"
    }
   ],
   "source": [
    "lda.fit(X_train_semi, y_train)"
   ]
  },
  {
   "cell_type": "code",
   "execution_count": 18,
   "id": "a21f9e65",
   "metadata": {},
   "outputs": [],
   "source": [
    "predicted_semi = lda.predict(X_test_semi)"
   ]
  },
  {
   "cell_type": "code",
   "execution_count": 19,
   "id": "7bd5b883",
   "metadata": {},
   "outputs": [
    {
     "name": "stdout",
     "output_type": "stream",
     "text": [
      "Accuracy: 0.082\n",
      "Jacard: 0.163\n",
      "F1: 0.193\n"
     ]
    }
   ],
   "source": [
    "evaluation('lda', y_test, predicted_semi, 'samples')"
   ]
  },
  {
   "cell_type": "markdown",
   "id": "25d2d0c7",
   "metadata": {},
   "source": [
    "## Approche supervisée"
   ]
  },
  {
   "cell_type": "code",
   "execution_count": 20,
   "id": "37347f45",
   "metadata": {},
   "outputs": [],
   "source": [
    "nb_features = 100"
   ]
  },
  {
   "cell_type": "markdown",
   "id": "2e7942af",
   "metadata": {},
   "source": [
    "### Bag of words"
   ]
  },
  {
   "cell_type": "code",
   "execution_count": 21,
   "id": "7dace07b",
   "metadata": {},
   "outputs": [],
   "source": [
    "X_train_bow = X_train.str_tokens\n",
    "X_test_bow = X_test.str_tokens"
   ]
  },
  {
   "cell_type": "code",
   "execution_count": 22,
   "id": "6e22995f",
   "metadata": {},
   "outputs": [],
   "source": [
    "bow = Pipeline([('bow', CountVectorizer(max_features=nb_features, ngram_range=(1, 2))),\n",
    "                ('scaler', StandardScaler(with_mean=False)),\n",
    "                ('clf', ClassifierChain(SGDClassifier(\n",
    "                    loss='squared_hinge', alpha=1e-2, max_iter=10, early_stopping=True)))\n",
    "                ])"
   ]
  },
  {
   "cell_type": "code",
   "execution_count": 23,
   "id": "c4b3396e",
   "metadata": {},
   "outputs": [
    {
     "name": "stdout",
     "output_type": "stream",
     "text": [
      "Fitting 5 folds for each of 1 candidates, totalling 5 fits\n"
     ]
    },
    {
     "name": "stderr",
     "output_type": "stream",
     "text": [
      "[Parallel(n_jobs=-1)]: Using backend LokyBackend with 16 concurrent workers.\n",
      "[Parallel(n_jobs=-1)]: Done   5 out of   5 | elapsed:    3.2s finished\n"
     ]
    },
    {
     "name": "stdout",
     "output_type": "stream",
     "text": [
      "train_score: 0.3400274880728058\n",
      "test_score: 0.3159612910451366\n",
      "\n",
      "model is not ovefitting\n"
     ]
    }
   ],
   "source": [
    "check_overfitting(bow, X_train_bow, 0.1)"
   ]
  },
  {
   "cell_type": "code",
   "execution_count": 24,
   "id": "bb48112f",
   "metadata": {},
   "outputs": [
    {
     "data": {
      "text/plain": [
       "Pipeline(steps=[('bow', CountVectorizer(max_features=100, ngram_range=(1, 2))),\n",
       "                ('scaler', StandardScaler(with_mean=False)),\n",
       "                ('clf',\n",
       "                 ClassifierChain(base_estimator=SGDClassifier(alpha=0.01,\n",
       "                                                              early_stopping=True,\n",
       "                                                              loss='squared_hinge',\n",
       "                                                              max_iter=10)))])"
      ]
     },
     "execution_count": 24,
     "metadata": {},
     "output_type": "execute_result"
    }
   ],
   "source": [
    "bow.fit(X_train_bow, y_train)"
   ]
  },
  {
   "cell_type": "code",
   "execution_count": 25,
   "id": "94b58926",
   "metadata": {},
   "outputs": [],
   "source": [
    "y_pred_bow = bow.predict(X_test_bow)"
   ]
  },
  {
   "cell_type": "code",
   "execution_count": 26,
   "id": "8725ddd8",
   "metadata": {},
   "outputs": [
    {
     "name": "stdout",
     "output_type": "stream",
     "text": [
      "Accuracy: 0.119\n",
      "Jacard: 0.256\n",
      "F1: 0.309\n"
     ]
    }
   ],
   "source": [
    "evaluation('bow', y_test, y_pred_bow, 'samples')"
   ]
  },
  {
   "cell_type": "markdown",
   "id": "837854dd",
   "metadata": {},
   "source": [
    "### Tf-Idf"
   ]
  },
  {
   "cell_type": "code",
   "execution_count": 27,
   "id": "8f88a54a",
   "metadata": {},
   "outputs": [],
   "source": [
    "X_train_tfidf = X_train.str_tokens\n",
    "X_test_tfidf = X_test.str_tokens"
   ]
  },
  {
   "cell_type": "code",
   "execution_count": 28,
   "id": "680e7ba4",
   "metadata": {},
   "outputs": [],
   "source": [
    "tfidf = Pipeline([('tfidf', TfidfVectorizer(max_features=nb_features, ngram_range=(1, 2))),\n",
    "                  ('scaler', StandardScaler(with_mean=False)),\n",
    "                  ('clf', ClassifierChain(SGDClassifier(\n",
    "                      loss='squared_hinge', alpha=1e-2, max_iter=10, early_stopping=True)))\n",
    "                  ])"
   ]
  },
  {
   "cell_type": "code",
   "execution_count": 29,
   "id": "f80176da",
   "metadata": {},
   "outputs": [
    {
     "name": "stdout",
     "output_type": "stream",
     "text": [
      "Fitting 5 folds for each of 1 candidates, totalling 5 fits\n"
     ]
    },
    {
     "name": "stderr",
     "output_type": "stream",
     "text": [
      "[Parallel(n_jobs=-1)]: Using backend LokyBackend with 16 concurrent workers.\n",
      "[Parallel(n_jobs=-1)]: Done   5 out of   5 | elapsed:    3.3s finished\n"
     ]
    },
    {
     "name": "stdout",
     "output_type": "stream",
     "text": [
      "train_score: 0.34987240097278033\n",
      "test_score: 0.3260795351447317\n",
      "\n",
      "model is not ovefitting\n"
     ]
    }
   ],
   "source": [
    "check_overfitting(tfidf, X_train_tfidf, 0.1)"
   ]
  },
  {
   "cell_type": "code",
   "execution_count": 30,
   "id": "d014ad97",
   "metadata": {},
   "outputs": [
    {
     "data": {
      "text/plain": [
       "Pipeline(steps=[('tfidf',\n",
       "                 TfidfVectorizer(max_features=100, ngram_range=(1, 2))),\n",
       "                ('scaler', StandardScaler(with_mean=False)),\n",
       "                ('clf',\n",
       "                 ClassifierChain(base_estimator=SGDClassifier(alpha=0.01,\n",
       "                                                              early_stopping=True,\n",
       "                                                              loss='squared_hinge',\n",
       "                                                              max_iter=10)))])"
      ]
     },
     "execution_count": 30,
     "metadata": {},
     "output_type": "execute_result"
    }
   ],
   "source": [
    "tfidf.fit(X_train_tfidf, y_train)"
   ]
  },
  {
   "cell_type": "code",
   "execution_count": 31,
   "id": "d503428a",
   "metadata": {},
   "outputs": [],
   "source": [
    "y_pred_tfidf = tfidf.predict(X_test_tfidf)"
   ]
  },
  {
   "cell_type": "code",
   "execution_count": 32,
   "id": "b20d7b65",
   "metadata": {},
   "outputs": [
    {
     "name": "stdout",
     "output_type": "stream",
     "text": [
      "Accuracy: 0.148\n",
      "Jacard: 0.296\n",
      "F1: 0.351\n"
     ]
    }
   ],
   "source": [
    "evaluation('tfidf', y_test, y_pred_tfidf, 'samples')"
   ]
  },
  {
   "cell_type": "markdown",
   "id": "267f5158",
   "metadata": {},
   "source": [
    "### Word Embedding"
   ]
  },
  {
   "cell_type": "code",
   "execution_count": 33,
   "id": "873dcf6e",
   "metadata": {},
   "outputs": [],
   "source": [
    "# create corpus\n",
    "corpus = data['str_tokens']"
   ]
  },
  {
   "cell_type": "code",
   "execution_count": 34,
   "id": "fe62c100",
   "metadata": {},
   "outputs": [],
   "source": [
    "# create list of lists of unigrams\n",
    "lst_corpus = []\n",
    "for string in corpus:\n",
    "    lst_words = string.split()\n",
    "    lst_corpus.append(lst_words)"
   ]
  },
  {
   "cell_type": "code",
   "execution_count": 35,
   "id": "54891dfc",
   "metadata": {},
   "outputs": [],
   "source": [
    "## detect bigrams and trigrams\n",
    "bigrams_detector = gensim.models.phrases.Phrases(lst_corpus, min_count=2, threshold=100)\n",
    "bigrams_detector = gensim.models.phrases.Phraser(bigrams_detector)"
   ]
  },
  {
   "cell_type": "code",
   "execution_count": 36,
   "id": "2736da46",
   "metadata": {},
   "outputs": [],
   "source": [
    "# fit w2v\n",
    "w2v = gensim.models.word2vec.Word2Vec(lst_corpus, vector_size=nb_features,\n",
    "                                      window=10, min_count=1, sg=0)"
   ]
  },
  {
   "cell_type": "code",
   "execution_count": 37,
   "id": "7dcedbca",
   "metadata": {},
   "outputs": [],
   "source": [
    "def drop(df, col_list):\n",
    "    df = df.drop(col_list, axis=1)\n",
    "    return df"
   ]
  },
  {
   "cell_type": "code",
   "execution_count": 38,
   "id": "8c22570a",
   "metadata": {},
   "outputs": [],
   "source": [
    "def transform_w2v(X, nb_features):\n",
    "    # Create a working copy of the dataset\n",
    "    X = X.copy()\n",
    "    \n",
    "    # make sure indexes pair with number of rows\n",
    "    X = X.reset_index()  \n",
    "    X = drop(X, ['index'])\n",
    "    \n",
    "    # For each post, get the sum of w2v vector for each word\n",
    "    result =[]\n",
    "\n",
    "    for index, row in X.iterrows():\n",
    "        try:\n",
    "            sentence = row['str_tokens'].split(' ')\n",
    "            sum_vectors = (0, )\n",
    "\n",
    "            for word in sentence:\n",
    "                # get word's vector\n",
    "                vector = w2v.wv[word]\n",
    "                # sum vector\n",
    "                sum_vectors = sum_vectors + vector\n",
    "\n",
    "            result.append(list(sum_vectors))\n",
    "        except KeyError:\n",
    "            result.append((0, ))\n",
    "            \n",
    "    result = np.array(result).tolist()\n",
    "    \n",
    "    # Add empty columns to dataframe\n",
    "    columns_list = []\n",
    "    for i in range(nb_features):\n",
    "        columns_list.append('v_' + str(i))\n",
    "    \n",
    "    # Concat new columns with existing dataframe\n",
    "    X = pd.concat(\n",
    "        [\n",
    "            X,\n",
    "            pd.DataFrame(\n",
    "                result, \n",
    "                index=X.index, \n",
    "                columns=columns_list\n",
    "            )\n",
    "        ], axis=1\n",
    "    )\n",
    "    \n",
    "    # If nan value, fill with 0\n",
    "    X = X.fillna(0)\n",
    "            \n",
    "    # Filter\n",
    "    X = X[columns_list]\n",
    "    \n",
    "    return X"
   ]
  },
  {
   "cell_type": "code",
   "execution_count": 39,
   "id": "42c8fbfd",
   "metadata": {},
   "outputs": [],
   "source": [
    "X_train_w2v = transform_w2v(X_train, nb_features)"
   ]
  },
  {
   "cell_type": "code",
   "execution_count": 40,
   "id": "c8970dd0",
   "metadata": {},
   "outputs": [],
   "source": [
    "X_test_w2v = transform_w2v(X_test, nb_features)"
   ]
  },
  {
   "cell_type": "code",
   "execution_count": 41,
   "id": "0f55f1db",
   "metadata": {},
   "outputs": [],
   "source": [
    "w2v = Pipeline(steps=[\n",
    "    ('scaler', StandardScaler()),\n",
    "    ('model', ClassifierChain(SGDClassifier(\n",
    "        loss='squared_hinge', alpha=1e-2, max_iter=10, early_stopping=True)))\n",
    "])"
   ]
  },
  {
   "cell_type": "code",
   "execution_count": 42,
   "id": "9b6bcf77",
   "metadata": {},
   "outputs": [
    {
     "name": "stdout",
     "output_type": "stream",
     "text": [
      "Fitting 5 folds for each of 1 candidates, totalling 5 fits\n"
     ]
    },
    {
     "name": "stderr",
     "output_type": "stream",
     "text": [
      "[Parallel(n_jobs=-1)]: Using backend LokyBackend with 16 concurrent workers.\n",
      "[Parallel(n_jobs=-1)]: Done   5 out of   5 | elapsed:    2.9s finished\n"
     ]
    },
    {
     "name": "stdout",
     "output_type": "stream",
     "text": [
      "train_score: 0.2763169432528393\n",
      "test_score: 0.27245376257680504\n",
      "\n",
      "model is not ovefitting\n"
     ]
    }
   ],
   "source": [
    "check_overfitting(w2v, X_train_w2v, 0.1)"
   ]
  },
  {
   "cell_type": "code",
   "execution_count": 43,
   "id": "999a12fe",
   "metadata": {},
   "outputs": [
    {
     "data": {
      "text/plain": [
       "Pipeline(steps=[('scaler', StandardScaler()),\n",
       "                ('model',\n",
       "                 ClassifierChain(base_estimator=SGDClassifier(alpha=0.01,\n",
       "                                                              early_stopping=True,\n",
       "                                                              loss='squared_hinge',\n",
       "                                                              max_iter=10)))])"
      ]
     },
     "execution_count": 43,
     "metadata": {},
     "output_type": "execute_result"
    }
   ],
   "source": [
    "w2v.fit(X_train_w2v, y_train)"
   ]
  },
  {
   "cell_type": "code",
   "execution_count": 44,
   "id": "57c6ce5b",
   "metadata": {},
   "outputs": [],
   "source": [
    "predicted_w2v = w2v.predict(X_test_w2v)"
   ]
  },
  {
   "cell_type": "code",
   "execution_count": 45,
   "id": "bfbbd9c9",
   "metadata": {},
   "outputs": [
    {
     "name": "stdout",
     "output_type": "stream",
     "text": [
      "Accuracy: 0.153\n",
      "Jacard: 0.274\n",
      "F1: 0.316\n"
     ]
    }
   ],
   "source": [
    "evaluation('w2v', y_test, predicted_w2v, 'samples')"
   ]
  },
  {
   "cell_type": "markdown",
   "id": "e0524041",
   "metadata": {},
   "source": [
    "# Résultat final"
   ]
  },
  {
   "cell_type": "code",
   "execution_count": 46,
   "id": "4e83dfa7",
   "metadata": {},
   "outputs": [
    {
     "data": {
      "image/png": "[encoded data removed]",
      "text/plain": [
       "<Figure size 432x288 with 1 Axes>"
      ]
     },
     "metadata": {
      "needs_background": "light"
     },
     "output_type": "display_data"
    }
   ],
   "source": [
    "ind = np.arange(4) \n",
    "width = 0.25       \n",
    "plt.bar(ind, eval_acc.values(), width, label='accuracy')\n",
    "plt.bar(ind + width, eval_f1.values(), width, label='f1')\n",
    "plt.bar(ind + (width * 2), eval_jac.values(), width, label='jacard')\n",
    "\n",
    "plt.xlabel('Modèles')\n",
    "plt.ylabel('Scores')\n",
    "plt.title('Scores par modèle')\n",
    "\n",
    "plt.xticks(ind + width, ['lda', 'bow', 'tfidf', 'w2v'])\n",
    "plt.legend(loc='best')\n",
    "\n",
    "plt.tight_layout()\n",
    "plt.gcf().savefig('test_result', dpi=100)\n",
    "plt.show()"
   ]
  },
  {
   "cell_type": "code",
   "execution_count": null,
   "id": "19815505",
   "metadata": {},
   "outputs": [],
   "source": []
  }
 ],
 "metadata": {
  "kernelspec": {
   "display_name": "p5",
   "language": "python",
   "name": "p5"
  },
  "language_info": {
   "codemirror_mode": {
    "name": "ipython",
    "version": 3
   },
   "file_extension": ".py",
   "mimetype": "text/x-python",
   "name": "python",
   "nbconvert_exporter": "python",
   "pygments_lexer": "ipython3",
   "version": "3.8.12"
  },
  "toc": {
   "base_numbering": 1,
   "nav_menu": {},
   "number_sections": true,
   "sideBar": true,
   "skip_h1_title": false,
   "title_cell": "Table of Contents",
   "title_sidebar": "Contents",
   "toc_cell": false,
   "toc_position": {
    "height": "calc(100% - 180px)",
    "left": "10px",
    "top": "150px",
    "width": "307.2px"
   },
   "toc_section_display": true,
   "toc_window_display": true
  }
 },
 "nbformat": 4,
 "nbformat_minor": 5
}
